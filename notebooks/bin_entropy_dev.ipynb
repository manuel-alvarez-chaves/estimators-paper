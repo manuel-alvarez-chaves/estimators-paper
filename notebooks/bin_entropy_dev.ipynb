{
 "cells": [
  {
   "cell_type": "code",
   "execution_count": 1,
   "metadata": {},
   "outputs": [],
   "source": [
    "import h5py\n",
    "import ast\n",
    "from utils.misc_utils import get_logger\n",
    "\n",
    "import numpy as np\n",
    "from scipy import stats\n",
    "from scipy.special import gamma, digamma\n",
    "from scipy.integrate import nquad"
   ]
  },
  {
   "cell_type": "code",
   "execution_count": 2,
   "metadata": {},
   "outputs": [
    {
     "name": "stdout",
     "output_type": "stream",
     "text": [
      "data_path - data.hdf5\n",
      "out_path - results/bin.hdf5\n",
      "logger - <RootLogger root (DEBUG)>\n",
      "quantity - h\n",
      "hyper_params - ['scott', 'fd', 'sturges']\n",
      "sample_sizes - [100, 200, 500, 1000, 5000, 10000, 50000, 100000]\n",
      "seeds - range(1, 4)\n",
      "results - None\n"
     ]
    }
   ],
   "source": [
    "from utils.bin_evaluators import Evaluator_BIN\n",
    "\n",
    "eval = Evaluator_BIN()\n",
    "\n",
    "eval.data_path = \"data.hdf5\"\n",
    "eval.out_path = \"results/bin.hdf5\"\n",
    "eval.logger = get_logger(\"results/bin_entropy.log\")\n",
    "\n",
    "eval.quantity = \"h\"\n",
    "\n",
    "eval.hyper_params = [\"scott\", \"fd\", \"sturges\"]\n",
    "eval.sample_sizes = [100, 200, 500, 1_000, 5_000, 10_000, 50_000, 100_000]\n",
    "eval.seeds = range(1, 4)\n",
    "\n",
    "for k, v in vars(eval).items():\n",
    "    print(f\"{k} - {v}\")\n",
    "\n",
    "eval.create_database()\n",
    "eval.create_group()\n",
    "\n",
    "experiments = [\n",
    "    \"uniform\",\n",
    "    \"normal\",\n",
    "    \"normal-mixture\",\n",
    "    \"exponential\",\n",
    "    \"bivariate-normal\",\n",
    "    \"bivariate-normal-mixture\",\n",
    "    \"gexp\",\n",
    "    \"4d-gaussian\"\n",
    "]"
   ]
  },
  {
   "cell_type": "code",
   "execution_count": 3,
   "metadata": {},
   "outputs": [
    {
     "name": "stderr",
     "output_type": "stream",
     "text": [
      "2023-11-13 12:41:15 - Creating converter from 3 to 5\n",
      "2023-11-13 12:41:15 - (UNIFORM, scott, 10000, 1) - Time: 0.00054 s - Est.: 0.404 nats\n",
      "2023-11-13 12:41:15 - (UNIFORM, qs, 10000, 1) - Time: 0.15971 s - Est.: 0.398 nats\n",
      "2023-11-13 12:41:18 - (UNIFORM, scott, 10000, 2) - Time: 0.00063 s - Est.: 0.404 nats\n",
      "2023-11-13 12:41:18 - (UNIFORM, qs, 10000, 2) - Time: 0.15241 s - Est.: 0.398 nats\n",
      "2023-11-13 12:41:20 - (UNIFORM, scott, 10000, 3) - Time: 0.00047 s - Est.: 0.404 nats\n",
      "2023-11-13 12:41:20 - (UNIFORM, qs, 10000, 3) - Time: 0.18609 s - Est.: 0.400 nats\n",
      "2023-11-13 12:41:24 - Creating converter from 5 to 3\n"
     ]
    },
    {
     "name": "stdout",
     "output_type": "stream",
     "text": [
      "True entropy: 0.405 nats\n"
     ]
    }
   ],
   "source": [
    "eval.hyper_params.append(\"qs\")\n",
    "\n",
    "# # # # # UNIFORM # # # # #\n",
    "\n",
    "experiment = \"uniform\"\n",
    "# Calculate Truth\n",
    "with h5py.File(eval.data_path, \"r\") as f:\n",
    "    dist_params = ast.literal_eval(f[experiment][\"p\"].attrs[\"hyper_params\"])\n",
    "\n",
    "true_h = np.log(dist_params[0][1]) # Reference\n",
    "\n",
    "eval.evaluate_entropy(experiment, \"scott\")\n",
    "\n",
    "# Save\n",
    "eval.write_single_to_hdf5(experiment, true_h)\n",
    "print(f\"True entropy: {true_h:.3f} nats\")"
   ]
  },
  {
   "cell_type": "code",
   "execution_count": 4,
   "metadata": {},
   "outputs": [
    {
     "name": "stderr",
     "output_type": "stream",
     "text": [
      "2023-11-13 12:41:24 - (NORMAL, scott, 10000, 1) - Time: 0.00057 s - Est.: 2.318 nats\n",
      "2023-11-13 12:41:24 - (NORMAL, qs, 10000, 1) - Time: 0.24187 s - Est.: 2.316 nats\n",
      "2023-11-13 12:41:27 - (NORMAL, scott, 10000, 2) - Time: 0.00059 s - Est.: 2.330 nats\n",
      "2023-11-13 12:41:27 - (NORMAL, qs, 10000, 2) - Time: 0.19040 s - Est.: 2.325 nats\n",
      "2023-11-13 12:41:31 - (NORMAL, scott, 10000, 3) - Time: 0.00060 s - Est.: 2.333 nats\n",
      "2023-11-13 12:41:31 - (NORMAL, qs, 10000, 3) - Time: 0.18985 s - Est.: 2.340 nats\n"
     ]
    },
    {
     "name": "stdout",
     "output_type": "stream",
     "text": [
      "True entropy: 2.335 nats\n"
     ]
    }
   ],
   "source": [
    "# # # # # NORMAL # # # # #\n",
    "\n",
    "experiment = \"normal\"\n",
    "\n",
    "# Calculate Truth\n",
    "with h5py.File(eval.data_path, \"r\") as f:\n",
    "    dist_params = ast.literal_eval(f[experiment][\"p\"].attrs[\"hyper_params\"])\n",
    "\n",
    "true_h = 0.5 * np.log(2 * np.pi * (dist_params[0][1]**2)) + 0.5 # Reference\n",
    "\n",
    "eval.evaluate_entropy(experiment, \"scott\")\n",
    "\n",
    "# Save\n",
    "eval.write_single_to_hdf5(experiment, true_h)\n",
    "print(f\"True entropy: {true_h:.3f} nats\")"
   ]
  },
  {
   "cell_type": "code",
   "execution_count": 5,
   "metadata": {},
   "outputs": [
    {
     "name": "stderr",
     "output_type": "stream",
     "text": [
      "2023-11-13 12:41:34 - (NORMAL-MIXTURE, scott, 10000, 1) - Time: 0.00065 s - Est.: 2.377 nats\n",
      "2023-11-13 12:41:35 - (NORMAL-MIXTURE, qs, 10000, 1) - Time: 0.21869 s - Est.: 2.376 nats\n",
      "2023-11-13 12:41:38 - (NORMAL-MIXTURE, scott, 10000, 2) - Time: 0.00061 s - Est.: 2.383 nats\n",
      "2023-11-13 12:41:38 - (NORMAL-MIXTURE, qs, 10000, 2) - Time: 0.20199 s - Est.: 2.373 nats\n",
      "2023-11-13 12:41:41 - (NORMAL-MIXTURE, scott, 10000, 3) - Time: 0.00056 s - Est.: 2.386 nats\n",
      "2023-11-13 12:41:42 - (NORMAL-MIXTURE, qs, 10000, 3) - Time: 0.19743 s - Est.: 2.377 nats\n"
     ]
    },
    {
     "name": "stdout",
     "output_type": "stream",
     "text": [
      "True entropy: 2.385 nats\n"
     ]
    }
   ],
   "source": [
    "# # # # # NORMAL-MIXTURE # # # # #\n",
    "\n",
    "experiment = \"normal-mixture\"\n",
    "\n",
    "# Calculate Truth\n",
    "with h5py.File(eval.data_path, \"r\") as f:\n",
    "    dist_params = ast.literal_eval(f[experiment][\"p\"].attrs[\"hyper_params\"])\n",
    "\n",
    "def pdf_normal(x, params):\n",
    "    y = 0.0\n",
    "    for dist in params:\n",
    "        l, s, w = dist\n",
    "        y += stats.norm(loc=l, scale=s).pdf(x) * w\n",
    "    return y\n",
    "\n",
    "def h_normal(x, params):\n",
    "    p = pdf_normal(x, params)\n",
    "    return -1 * p * np.log(p)\n",
    "\n",
    "norm_lims = [[-15, 25]]\n",
    "\n",
    "true_h = nquad(h_normal, norm_lims, args=(dist_params,))[0] # Numerical Integration Result\n",
    "\n",
    "eval.evaluate_entropy(experiment, \"scott\")\n",
    "\n",
    "# Save\n",
    "eval.write_single_to_hdf5(experiment, true_h)\n",
    "print(f\"True entropy: {true_h:.3f} nats\")"
   ]
  },
  {
   "cell_type": "code",
   "execution_count": 6,
   "metadata": {},
   "outputs": [
    {
     "name": "stderr",
     "output_type": "stream",
     "text": [
      "2023-11-13 12:41:45 - (EXPONENTIAL, scott, 10000, 1) - Time: 0.00065 s - Est.: 0.302 nats\n",
      "2023-11-13 12:41:45 - (EXPONENTIAL, qs, 10000, 1) - Time: 0.27868 s - Est.: 0.313 nats\n",
      "2023-11-13 12:41:49 - (EXPONENTIAL, scott, 10000, 2) - Time: 0.00067 s - Est.: 0.302 nats\n",
      "2023-11-13 12:41:49 - (EXPONENTIAL, qs, 10000, 2) - Time: 0.19992 s - Est.: 0.306 nats\n",
      "2023-11-13 12:41:52 - (EXPONENTIAL, scott, 10000, 3) - Time: 0.00051 s - Est.: 0.320 nats\n",
      "2023-11-13 12:41:52 - (EXPONENTIAL, qs, 10000, 3) - Time: 0.18630 s - Est.: 0.325 nats\n"
     ]
    },
    {
     "name": "stdout",
     "output_type": "stream",
     "text": [
      "True entropy: 0.307 nats\n"
     ]
    }
   ],
   "source": [
    "# # # # # EXPONENTIAL # # # # #\n",
    "\n",
    "experiment = \"exponential\"\n",
    "\n",
    "# Calculate Truth\n",
    "with h5py.File(eval.data_path, \"r\") as f:\n",
    "    dist_params = ast.literal_eval(f[experiment][\"p\"].attrs[\"hyper_params\"])\n",
    "\n",
    "true_h = 1 - np.log(1/dist_params[0][1]) # Reference\n",
    "\n",
    "eval.evaluate_entropy(experiment, \"scott\")\n",
    "\n",
    "# Save\n",
    "eval.write_single_to_hdf5(experiment, true_h)\n",
    "print(f\"True entropy: {true_h:.3f} nats\")"
   ]
  },
  {
   "cell_type": "code",
   "execution_count": 7,
   "metadata": {},
   "outputs": [
    {
     "name": "stderr",
     "output_type": "stream",
     "text": [
      "2023-11-13 12:41:55 - (BIVARIATE-NORMAL, scott, 10000, 1) - Time: 0.00138 s - Est.: 2.636 nats\n",
      "2023-11-13 12:41:55 - (BIVARIATE-NORMAL, scott, 10000, 2) - Time: 0.00172 s - Est.: 2.619 nats\n",
      "2023-11-13 12:41:55 - (BIVARIATE-NORMAL, scott, 10000, 3) - Time: 0.00131 s - Est.: 2.617 nats\n"
     ]
    },
    {
     "name": "stdout",
     "output_type": "stream",
     "text": [
      "True entropy: 2.694 nats\n"
     ]
    }
   ],
   "source": [
    "eval.hyper_params = [\"scott\", \"fd\", \"sturges\"]\n",
    "\n",
    "# # # # # BIVARIATE-NORMAL # # # # #\n",
    "\n",
    "experiment = \"bivariate-normal\"\n",
    "\n",
    "# Calculate Truth\n",
    "with h5py.File(eval.data_path, \"r\") as f:\n",
    "    dist_params = ast.literal_eval(f[experiment][\"p\"].attrs[\"hyper_params\"])\n",
    "\n",
    "d = len(dist_params[0][1])\n",
    "true_h = 0.5 * np.log((2 * np.pi * np.exp(1)) ** d * np.linalg.det(dist_params[0][1])) # Reference\n",
    "\n",
    "eval.evaluate_entropy(experiment, \"scott\")\n",
    "\n",
    "# Save\n",
    "eval.write_single_to_hdf5(experiment, true_h)\n",
    "print(f\"True entropy: {true_h:.3f} nats\")"
   ]
  },
  {
   "cell_type": "code",
   "execution_count": 8,
   "metadata": {},
   "outputs": [
    {
     "name": "stderr",
     "output_type": "stream",
     "text": [
      "2023-11-13 12:42:01 - (BIVARIATE-NORMAL-MIXTURE, scott, 10000, 1) - Time: 0.00112 s - Est.: 3.278 nats\n",
      "2023-11-13 12:42:01 - (BIVARIATE-NORMAL-MIXTURE, scott, 10000, 2) - Time: 0.00112 s - Est.: 3.280 nats\n",
      "2023-11-13 12:42:01 - (BIVARIATE-NORMAL-MIXTURE, scott, 10000, 3) - Time: 0.00121 s - Est.: 3.284 nats\n"
     ]
    },
    {
     "name": "stdout",
     "output_type": "stream",
     "text": [
      "True entropy: 3.330 nats\n"
     ]
    }
   ],
   "source": [
    "# # # # # BIVARIATE-NORMAL-MIXTURE # # # # #\n",
    "\n",
    "experiment = \"bivariate-normal-mixture\"\n",
    "\n",
    "# Calculate Truth\n",
    "with h5py.File(eval.data_path, \"r\") as f:\n",
    "    dist_params = ast.literal_eval(f[experiment][\"p\"].attrs[\"hyper_params\"])\n",
    "\n",
    "def pdf_mnorm(x, y, params):\n",
    "    z = 0.0\n",
    "    for dist in params:\n",
    "        l, s, w = dist\n",
    "        z += stats.multivariate_normal(mean=l, cov=s).pdf(np.dstack((x, y))) * w\n",
    "    return z\n",
    "\n",
    "def h_mnorm(x, y, params1):\n",
    "    p = pdf_mnorm(x, y, params1)\n",
    "    return -1 * p * np.log(p)\n",
    "\n",
    "binorm_lims = [[-7, 7], [-7, 7]]\n",
    "\n",
    "true_h = nquad(h_mnorm, binorm_lims, args=(dist_params,))[0] # Numerical Integration Result\n",
    "\n",
    "eval.evaluate_entropy(experiment, \"scott\")\n",
    "\n",
    "# Save\n",
    "eval.write_single_to_hdf5(experiment, true_h)\n",
    "print(f\"True entropy: {true_h:.3f} nats\")"
   ]
  },
  {
   "cell_type": "code",
   "execution_count": 9,
   "metadata": {},
   "outputs": [
    {
     "name": "stderr",
     "output_type": "stream",
     "text": [
      "2023-11-13 12:42:02 - (GEXP, scott, 10000, 1) - Time: 0.00119 s - Est.: 1.928 nats\n",
      "2023-11-13 12:42:02 - (GEXP, scott, 10000, 2) - Time: 0.00128 s - Est.: 1.885 nats\n",
      "2023-11-13 12:42:02 - (GEXP, scott, 10000, 3) - Time: 0.00181 s - Est.: 1.898 nats\n"
     ]
    },
    {
     "name": "stdout",
     "output_type": "stream",
     "text": [
      "True entropy: 1.925 nats\n"
     ]
    }
   ],
   "source": [
    "# # # # # GAMMA-EXPONENTIAL # # # # #\n",
    "\n",
    "experiment = \"gexp\"\n",
    "\n",
    "# Calculate Truth\n",
    "with h5py.File(eval.data_path, \"r\") as f:\n",
    "    dist_params = ast.literal_eval(f[experiment][\"p\"].attrs[\"hyper_params\"])\n",
    "\n",
    "tetha = dist_params[0][0]\n",
    "true_h = 1 +  tetha - tetha * digamma(tetha) + np.log(gamma(tetha)) - np.log(1.0) # Reference\n",
    "\n",
    "eval.evaluate_entropy(experiment, \"scott\")\n",
    "\n",
    "# Save\n",
    "eval.write_single_to_hdf5(experiment, true_h)\n",
    "print(f\"True entropy: {true_h:.3f} nats\")"
   ]
  },
  {
   "cell_type": "code",
   "execution_count": 10,
   "metadata": {},
   "outputs": [
    {
     "name": "stderr",
     "output_type": "stream",
     "text": [
      "2023-11-13 12:42:03 - (4D-GAUSSIAN, scott, 10000, 1) - Time: 0.30739 s - Est.: 1.857 nats\n"
     ]
    },
    {
     "name": "stdout",
     "output_type": "stream",
     "text": [
      "True entropy: 5.094 nats\n"
     ]
    }
   ],
   "source": [
    "eval.seeds = range(1, 2)\n",
    "\n",
    "# # # # # 4D-GAUSSIAN # # # # #\n",
    "\n",
    "experiment = \"4d-gaussian\"\n",
    "\n",
    "# Calculate Truth\n",
    "with h5py.File(eval.data_path, \"r\") as f:\n",
    "    dist_params = ast.literal_eval(f[experiment][\"p\"].attrs[\"hyper_params\"])\n",
    "\n",
    "d = len(dist_params[0][1])\n",
    "true_h = 0.5 * np.log((2 * np.pi * np.exp(1)) ** d * np.linalg.det(dist_params[0][1])) # Reference\n",
    "\n",
    "eval.evaluate_entropy(experiment, \"scott\")\n",
    "\n",
    "# Save\n",
    "eval.write_single_to_hdf5(experiment, true_h)\n",
    "print(f\"True entropy: {true_h:.3f} nats\")"
   ]
  }
 ],
 "metadata": {
  "kernelspec": {
   "display_name": "env_sci",
   "language": "python",
   "name": "python3"
  },
  "language_info": {
   "codemirror_mode": {
    "name": "ipython",
    "version": 3
   },
   "file_extension": ".py",
   "mimetype": "text/x-python",
   "name": "python",
   "nbconvert_exporter": "python",
   "pygments_lexer": "ipython3",
   "version": "3.11.5"
  }
 },
 "nbformat": 4,
 "nbformat_minor": 2
}
