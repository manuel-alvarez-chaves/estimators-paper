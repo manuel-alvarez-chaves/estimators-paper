{
 "cells": [
  {
   "cell_type": "code",
   "execution_count": 1,
   "metadata": {},
   "outputs": [],
   "source": [
    "from pathlib import Path\n",
    "import h5py\n",
    "\n",
    "path_bin1 = Path(\"../results/bin1.hdf5\")\n",
    "path_bin2 = Path(\"../results/bin2.hdf5\")"
   ]
  },
  {
   "cell_type": "code",
   "execution_count": 7,
   "metadata": {},
   "outputs": [],
   "source": [
    "with h5py.File(path_bin2, mode=\"r\") as f2:\n",
    "    with h5py.File(path_bin1, mode=\"a\") as f1:\n",
    "        for quantity in f2.keys():\n",
    "            cases = f2[quantity]\n",
    "            for case in cases.keys():\n",
    "                try: \n",
    "                    del f1[quantity][case]\n",
    "                except Exception:\n",
    "                    pass\n",
    "                res = f2[quantity][case][\"results\"]\n",
    "                f1[quantity].create_group(name=case)\n",
    "                for key, val in f2[quantity][case].attrs.items():\n",
    "                    f1[quantity][case].attrs[key] = val\n",
    "                f1[quantity][case].create_dataset(name=\"results\", data=res)"
   ]
  }
 ],
 "metadata": {
  "kernelspec": {
   "display_name": ".venv",
   "language": "python",
   "name": "python3"
  },
  "language_info": {
   "codemirror_mode": {
    "name": "ipython",
    "version": 3
   },
   "file_extension": ".py",
   "mimetype": "text/x-python",
   "name": "python",
   "nbconvert_exporter": "python",
   "pygments_lexer": "ipython3",
   "version": "3.10.12"
  }
 },
 "nbformat": 4,
 "nbformat_minor": 2
}
