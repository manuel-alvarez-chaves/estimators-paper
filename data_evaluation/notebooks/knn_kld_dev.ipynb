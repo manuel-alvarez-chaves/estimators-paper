{
 "cells": [
  {
   "cell_type": "code",
   "execution_count": 1,
   "metadata": {},
   "outputs": [],
   "source": [
    "import h5py\n",
    "import ast\n",
    "from utils.misc_utils import get_logger\n",
    "\n",
    "import numpy as np\n",
    "from scipy import stats\n",
    "from scipy.special import gamma, digamma\n",
    "from scipy.integrate import nquad"
   ]
  },
  {
   "cell_type": "code",
   "execution_count": 2,
   "metadata": {},
   "outputs": [
    {
     "name": "stdout",
     "output_type": "stream",
     "text": [
      "data_path - data.hdf5\n",
      "out_path - results/knn.hdf5\n",
      "logger - <RootLogger root (DEBUG)>\n",
      "quantity - KLD\n",
      "hyper_params - [1, 3, 5, 15, 50]\n",
      "sample_sizes - [100, 200, 500, 1000, 5000, 10000, 50000, 100000]\n",
      "seeds - range(1, 3)\n",
      "results - None\n"
     ]
    }
   ],
   "source": [
    "from utils.knn_evaluators import Evaluator_KNN\n",
    "\n",
    "eval = Evaluator_KNN()\n",
    "\n",
    "eval.data_path = \"data.hdf5\"\n",
    "eval.out_path = \"results/knn.hdf5\"\n",
    "eval.logger = get_logger(\"results/knn_mi.log\")\n",
    "\n",
    "eval.quantity = \"KLD\"\n",
    "\n",
    "eval.hyper_params = [1, 3, 5, 15, 50]\n",
    "eval.sample_sizes = [100, 200, 500, 1_000, 5_000, 10_000, 50_000, 100_000]\n",
    "eval.seeds = range(1, 3)\n",
    "\n",
    "for k, v in vars(eval).items():\n",
    "    print(f\"{k} - {v}\")\n",
    "\n",
    "eval.create_database()\n",
    "eval.create_group()"
   ]
  },
  {
   "cell_type": "code",
   "execution_count": 3,
   "metadata": {},
   "outputs": [
    {
     "name": "stderr",
     "output_type": "stream",
     "text": [
      "2023-11-14 11:26:12 - Creating converter from 3 to 5\n",
      "c:\\Users\\ac140439\\mambaforge\\envs\\env_unite\\Lib\\site-packages\\unite_toolbox\\knn_estimators.py:119: RuntimeWarning: divide by zero encountered in log\n",
      "  kld = (d / n) * np.sum(np.log(nu / rho)) + np.log(m / (n - 1))\n",
      "2023-11-14 11:26:12 - (UNIFORM, 1, 10000, 1) - Time: 0.01931 s - Est.: -inf nats\n",
      "2023-11-14 11:26:16 - (UNIFORM, 1, 10000, 2) - Time: 0.01414 s - Est.: -inf nats\n"
     ]
    },
    {
     "name": "stdout",
     "output_type": "stream",
     "text": [
      "True KLD: 0.288 nats\n"
     ]
    }
   ],
   "source": [
    "# # # # # UNIFORM # # # # #\n",
    "\n",
    "experiment = \"uniform\"\n",
    "# Calculate Truth\n",
    "with h5py.File(eval.data_path, \"r\") as f:\n",
    "    dist1_params = ast.literal_eval(f[experiment][\"p\"].attrs[\"hyper_params\"])\n",
    "    dist2_params = ast.literal_eval(f[experiment][\"q\"].attrs[\"hyper_params\"])\n",
    "\n",
    "true_kld = np.log(dist2_params[0][1] / dist1_params[0][1])\n",
    "\n",
    "eval.evaluate_kld(experiment, 1)\n",
    "\n",
    "# Save\n",
    "eval.write_double_to_hdf5(experiment, \"uniform||uniform\", true_kld)\n",
    "print(f\"True KLD: {true_kld:.3f} nats\")"
   ]
  },
  {
   "cell_type": "code",
   "execution_count": 4,
   "metadata": {},
   "outputs": [
    {
     "name": "stderr",
     "output_type": "stream",
     "text": [
      "2023-11-14 11:27:54 - (NORMAL, 1, 10000, 1) - Time: 0.01492 s - Est.: -inf nats\n",
      "2023-11-14 11:27:57 - (NORMAL, 1, 10000, 2) - Time: 0.01496 s - Est.: 0.384 nats\n"
     ]
    },
    {
     "name": "stdout",
     "output_type": "stream",
     "text": [
      "True KLD: 0.361 nats\n"
     ]
    }
   ],
   "source": [
    "# # # # # NORMAL # # # # #\n",
    "\n",
    "experiment = \"normal\"\n",
    "# Calculate Truth\n",
    "with h5py.File(eval.data_path, \"r\") as f:\n",
    "    dist1_params = ast.literal_eval(f[experiment][\"p\"].attrs[\"hyper_params\"])\n",
    "    dist2_params = ast.literal_eval(f[experiment][\"q\"].attrs[\"hyper_params\"])\n",
    "\n",
    "true_kld = 0.5 * (\n",
    "    (dist1_params[0][1]/dist2_params[0][1]) ** 2 +\n",
    "    (dist2_params[0][0] - dist1_params[0][0]) ** 2 / (dist2_params[0][1] ** 2) -\n",
    "    1 + np.log((dist2_params[0][1]**2)/(dist1_params[0][1]**2))\n",
    ") # Reference\n",
    "\n",
    "eval.evaluate_kld(experiment, 1)\n",
    "\n",
    "# Save\n",
    "eval.write_double_to_hdf5(experiment, \"normal||normal\", true_kld)\n",
    "print(f\"True KLD: {true_kld:.3f} nats\")"
   ]
  },
  {
   "cell_type": "code",
   "execution_count": 5,
   "metadata": {},
   "outputs": [
    {
     "name": "stderr",
     "output_type": "stream",
     "text": [
      "2023-11-14 11:28:17 - (NORMAL-MIXTURE, 1, 10000, 1) - Time: 0.01398 s - Est.: 0.184 nats\n",
      "2023-11-14 11:28:20 - (NORMAL-MIXTURE, 1, 10000, 2) - Time: 0.01460 s - Est.: -inf nats\n",
      "2023-11-14 11:28:23 - Creating converter from 5 to 3\n"
     ]
    },
    {
     "name": "stdout",
     "output_type": "stream",
     "text": [
      "True KLD: 0.179 nats\n"
     ]
    }
   ],
   "source": [
    "# # # # # NORMAL-MIXTURE # # # # #\n",
    "\n",
    "experiment = \"normal-mixture\"\n",
    "# Calculate Truth\n",
    "with h5py.File(eval.data_path, \"r\") as f:\n",
    "    dist1_params = ast.literal_eval(f[experiment][\"p\"].attrs[\"hyper_params\"])\n",
    "    dist2_params = ast.literal_eval(f[experiment][\"q\"].attrs[\"hyper_params\"])\n",
    "\n",
    "def pdf_normal(x, params):\n",
    "    y = 0.0\n",
    "    for dist in params:\n",
    "        l, s, w = dist\n",
    "        y += stats.norm(loc=l, scale=s).pdf(x) * w\n",
    "    return y\n",
    "\n",
    "def kld_normals(x, params1, params2):\n",
    "    p = pdf_normal(x, params1)\n",
    "    q = pdf_normal(x, params2)\n",
    "    return p * np.log(p / q)\n",
    "\n",
    "norm_lims = [[-15, 25]]\n",
    "\n",
    "true_kld = nquad(kld_normals, norm_lims, args=(dist1_params, dist2_params,))[0] # Numerical Integration Solution\n",
    "\n",
    "eval.evaluate_kld(experiment, 1)\n",
    "\n",
    "# Save\n",
    "eval.write_double_to_hdf5(experiment, \"normal-mixture||normal\", true_kld)\n",
    "print(f\"True KLD: {true_kld:.3f} nats\")"
   ]
  },
  {
   "cell_type": "code",
   "execution_count": 6,
   "metadata": {},
   "outputs": [
    {
     "name": "stderr",
     "output_type": "stream",
     "text": [
      "2023-11-14 11:28:29 - (EXPONENTIAL, 1, 10000, 1) - Time: 0.02581 s - Est.: -inf nats\n",
      "2023-11-14 11:28:32 - (EXPONENTIAL, 1, 10000, 2) - Time: 0.01725 s - Est.: 0.670 nats\n"
     ]
    },
    {
     "name": "stdout",
     "output_type": "stream",
     "text": [
      "True KLD: 0.636 nats\n"
     ]
    }
   ],
   "source": [
    "# # # # # EXPONENTIAL # # # # #\n",
    "\n",
    "experiment = \"exponential\"\n",
    "# Calculate Truth\n",
    "with h5py.File(eval.data_path, \"r\") as f:\n",
    "    dist1_params = ast.literal_eval(f[experiment][\"p\"].attrs[\"hyper_params\"])\n",
    "    dist2_params = ast.literal_eval(f[experiment][\"q\"].attrs[\"hyper_params\"])\n",
    "\n",
    "true_kld = np.log(1 / dist1_params[0][1]) - np.log(1 / dist2_params[0][1]) + dist1_params[0][1] / dist2_params[0][1] - 1 # Reference\n",
    "\n",
    "eval.evaluate_kld(experiment, 1)\n",
    "\n",
    "# Save\n",
    "eval.write_double_to_hdf5(experiment, \"exp||exp\", true_kld)\n",
    "print(f\"True KLD: {true_kld:.3f} nats\")"
   ]
  },
  {
   "cell_type": "code",
   "execution_count": 9,
   "metadata": {},
   "outputs": [
    {
     "name": "stderr",
     "output_type": "stream",
     "text": [
      "2023-11-14 11:30:34 - (BIVARIATE-NORMAL, 1, 10000, 1) - Time: 0.01830 s - Est.: -inf nats\n",
      "2023-11-14 11:30:39 - (BIVARIATE-NORMAL, 1, 10000, 2) - Time: 0.01884 s - Est.: 0.937 nats\n"
     ]
    },
    {
     "name": "stdout",
     "output_type": "stream",
     "text": [
      "True KLD: 0.949 nats\n"
     ]
    }
   ],
   "source": [
    "# # # # # BIVARIATE NORMAL # # # # #\n",
    "\n",
    "experiment = \"bivariate-normal\"\n",
    "# Calculate Truth\n",
    "with h5py.File(eval.data_path, \"r\") as f:\n",
    "    dist1_params = ast.literal_eval(f[experiment][\"p\"].attrs[\"hyper_params\"])\n",
    "    dist2_params = ast.literal_eval(f[experiment][\"q\"].attrs[\"hyper_params\"])\n",
    "\n",
    "m1, s1, _ = dist1_params[0]\n",
    "m2, s2, _ = dist2_params[0]\n",
    "m1, s1, m2, s2 = [np.array(p) for p in [m1, s1, m2, s2]]\n",
    "\n",
    "true_kld = 0.5 * (\n",
    "    np.log(np.linalg.det(s2)/np.linalg.det(s1)) + \n",
    "    np.trace(np.linalg.inv(s2) @ s1) +\n",
    "    (m2 - m1).T @ np.linalg.inv(s2) @ (m2 - m1) -\n",
    "    len(m2)\n",
    ")\n",
    "\n",
    "eval.evaluate_kld(experiment, 1)\n",
    "\n",
    "# Save\n",
    "eval.write_double_to_hdf5(experiment, \"bivariate-normal||bivariate-normal\", true_kld)\n",
    "print(f\"True KLD: {true_kld:.3f} nats\")"
   ]
  },
  {
   "cell_type": "code",
   "execution_count": 8,
   "metadata": {},
   "outputs": [
    {
     "name": "stderr",
     "output_type": "stream",
     "text": [
      "2023-11-14 11:29:10 - (BIVARIATE-NORMAL-MIXTURE, 1, 10000, 1) - Time: 0.01987 s - Est.: -inf nats\n",
      "2023-11-14 11:29:16 - (BIVARIATE-NORMAL-MIXTURE, 1, 10000, 2) - Time: 0.02592 s - Est.: 0.329 nats\n"
     ]
    },
    {
     "name": "stdout",
     "output_type": "stream",
     "text": [
      "True KLD: 0.312 nats\n"
     ]
    }
   ],
   "source": [
    "# # # # # BIVARIATE-NORMAL-MIXTURE # # # # #\n",
    "\n",
    "experiment = \"bivariate-normal-mixture\"\n",
    "with h5py.File(eval.data_path, \"r\") as f:\n",
    "    dist1_params = ast.literal_eval(f[experiment][\"p\"].attrs[\"hyper_params\"])\n",
    "    dist2_params = ast.literal_eval(f[experiment][\"q\"].attrs[\"hyper_params\"])\n",
    "\n",
    "def pdf_mnorm(x, y, params):\n",
    "    z = 0.0\n",
    "    for dist in params:\n",
    "        l, s, w = dist\n",
    "        z += stats.multivariate_normal(mean=l, cov=s).pdf(np.dstack((x, y))) * w\n",
    "    return z\n",
    "\n",
    "def kld_mnorms(x, y, params1, params2):\n",
    "    p = pdf_mnorm(x, y, params1)\n",
    "    q = pdf_mnorm(x, y, params2)\n",
    "    return p * np.log(p / q)\n",
    "\n",
    "mnorm_lims = [[-7, 7], [-7, 7]]\n",
    "\n",
    "true_kld = nquad(kld_mnorms, mnorm_lims, args=(dist1_params, dist2_params,))[0]\n",
    "\n",
    "eval.evaluate_kld(experiment, 1)\n",
    "\n",
    "# Save\n",
    "eval.write_double_to_hdf5(experiment, \"bivariate-normal-mixture||bivariate-normal\", true_kld)\n",
    "print(f\"True KLD: {true_kld:.3f} nats\")"
   ]
  },
  {
   "cell_type": "code",
   "execution_count": 11,
   "metadata": {},
   "outputs": [
    {
     "name": "stderr",
     "output_type": "stream",
     "text": [
      "2023-11-14 11:31:02 - (GEXP, 1, 10000, 1) - Time: 0.04296 s - Est.: 0.211 nats\n",
      "2023-11-14 11:31:07 - (GEXP, 1, 10000, 2) - Time: 0.01801 s - Est.: -inf nats\n"
     ]
    },
    {
     "name": "stdout",
     "output_type": "stream",
     "text": [
      "True KLD: 0.175 nats\n"
     ]
    }
   ],
   "source": [
    "# # # # # GAMMA-EXPONENTIAL # # # # #\n",
    "\n",
    "experiment = \"gexp\"\n",
    "\n",
    "# Calculate Truth\n",
    "with h5py.File(eval.data_path, \"r\") as f:\n",
    "    dist1_params = ast.literal_eval(f[experiment][\"p\"].attrs[\"hyper_params\"])\n",
    "    dist2_params = ast.literal_eval(f[experiment][\"q\"].attrs[\"hyper_params\"])\n",
    "\n",
    "def pdf_gamma_exponential(x, y, params):\n",
    "    z = 0.0\n",
    "    for dist in params:\n",
    "        t, w = dist\n",
    "        z += (1 / gamma(t)) * (x**t) * np.exp(-x - x * y) * w\n",
    "    return z\n",
    "\n",
    "def kld_gamma_exponentials(x, y, params1, params2):\n",
    "    p = pdf_gamma_exponential(x, y, params1)\n",
    "    q = pdf_gamma_exponential(x, y, params2)\n",
    "    return p * np.log(p / q)\n",
    "\n",
    "gexp_lims = [[0, 15], [0, 12]]\n",
    "\n",
    "true_kld = nquad(kld_gamma_exponentials, gexp_lims, args=(dist1_params, dist2_params,))[0]\n",
    "\n",
    "eval.evaluate_kld(experiment, 1)\n",
    "\n",
    "# Save\n",
    "eval.write_double_to_hdf5(experiment, \"gexp||gexp\", true_kld)\n",
    "print(f\"True KLD: {true_kld:.3f} nats\")"
   ]
  },
  {
   "cell_type": "code",
   "execution_count": 12,
   "metadata": {},
   "outputs": [
    {
     "name": "stderr",
     "output_type": "stream",
     "text": [
      "2023-11-14 11:31:30 - (4D-GAUSSIAN, 1, 10000, 1) - Time: 0.04398 s - Est.: 0.852 nats\n",
      "2023-11-14 11:31:46 - (4D-GAUSSIAN, 1, 10000, 2) - Time: 0.06512 s - Est.: 0.814 nats\n"
     ]
    },
    {
     "name": "stdout",
     "output_type": "stream",
     "text": [
      "True KLD: 0.901 nats\n"
     ]
    }
   ],
   "source": [
    "# # # # # 4D-GAUSSIAN # # # # #\n",
    "\n",
    "experiment = \"4d-gaussian\"\n",
    "\n",
    "# Calculate Truth\n",
    "with h5py.File(eval.data_path, \"r\") as f:\n",
    "    dist1_params = ast.literal_eval(f[experiment][\"p\"].attrs[\"hyper_params\"])\n",
    "    dist2_params = ast.literal_eval(f[experiment][\"q\"].attrs[\"hyper_params\"])\n",
    "\n",
    "def kld_scipy_mnorm(d1, d2):\n",
    "    a = np.log(np.linalg.det(d2.cov) / np.linalg.det(d1.cov))\n",
    "    b = np.trace(np.linalg.inv(d2.cov) @ d1.cov)\n",
    "    c = (d1.mean - d2.mean) @ np.linalg.inv(d2.cov) @ (d1.mean - d2.mean).T\n",
    "    n = len(d1.mean)\n",
    "\n",
    "    kld = 0.5 * (a + b) + 0.5 * (c - n)\n",
    "    return kld\n",
    "\n",
    "dist1 = stats.multivariate_normal(mean=dist1_params[0][0], cov=dist1_params[0][1])\n",
    "dist2 = stats.multivariate_normal(mean=dist2_params[0][0], cov=dist2_params[0][1])\n",
    "\n",
    "true_kld = kld_scipy_mnorm(dist1, dist2)\n",
    "\n",
    "eval.evaluate_kld(experiment, 1)\n",
    "\n",
    "# Save\n",
    "eval.write_double_to_hdf5(experiment, \"4dgauss||4dgauss\", true_kld)\n",
    "print(f\"True KLD: {true_kld:.3f} nats\")"
   ]
  },
  {
   "cell_type": "code",
   "execution_count": 13,
   "metadata": {},
   "outputs": [
    {
     "name": "stderr",
     "output_type": "stream",
     "text": [
      "2023-11-14 11:32:18 - (10D-GAUSSIAN, 1, 10000, 1) - Time: 1.33175 s - Est.: 7.395 nats\n",
      "2023-11-14 11:35:58 - (10D-GAUSSIAN, 1, 10000, 2) - Time: 1.32266 s - Est.: 7.186 nats\n"
     ]
    },
    {
     "name": "stdout",
     "output_type": "stream",
     "text": [
      "True KLD: 6.999 nats\n"
     ]
    }
   ],
   "source": [
    "eval.sample_sizes = [100, 200, 500, 1_000, 5_000, 10_000, 50_000]\n",
    "\n",
    "# # # # # 10D-GAUSSIAN # # # # #\n",
    "\n",
    "experiment = \"10d-gaussian\"\n",
    "\n",
    "# Calculate Truth\n",
    "with h5py.File(eval.data_path, \"r\") as f:\n",
    "    dist1_params = ast.literal_eval(f[experiment][\"p\"].attrs[\"hyper_params\"])\n",
    "    dist2_params = ast.literal_eval(f[experiment][\"q\"].attrs[\"hyper_params\"])\n",
    "\n",
    "def kld_scipy_mnorm(d1, d2):\n",
    "    a = np.log(np.linalg.det(d2.cov) / np.linalg.det(d1.cov))\n",
    "    b = np.trace(np.linalg.inv(d2.cov) @ d1.cov)\n",
    "    c = (d1.mean - d2.mean) @ np.linalg.inv(d2.cov) @ (d1.mean - d2.mean).T\n",
    "    n = len(d1.mean)\n",
    "\n",
    "    kld = 0.5 * (a + b) + 0.5 * (c - n)\n",
    "    return kld\n",
    "\n",
    "dist1 = stats.multivariate_normal(mean=dist1_params[0][0], cov=dist1_params[0][1])\n",
    "dist2 = stats.multivariate_normal(mean=dist2_params[0][0], cov=dist2_params[0][1])\n",
    "\n",
    "true_kld = kld_scipy_mnorm(dist1, dist2)\n",
    "\n",
    "eval.evaluate_kld(experiment, 1)\n",
    "\n",
    "# Save\n",
    "eval.write_double_to_hdf5(experiment, \"10dgauss||10dgauss\", true_kld)\n",
    "print(f\"True KLD: {true_kld:.3f} nats\")"
   ]
  }
 ],
 "metadata": {
  "kernelspec": {
   "display_name": "env_unite",
   "language": "python",
   "name": "python3"
  },
  "language_info": {
   "codemirror_mode": {
    "name": "ipython",
    "version": 3
   },
   "file_extension": ".py",
   "mimetype": "text/x-python",
   "name": "python",
   "nbconvert_exporter": "python",
   "pygments_lexer": "ipython3",
   "version": "3.11.5"
  }
 },
 "nbformat": 4,
 "nbformat_minor": 2
}
