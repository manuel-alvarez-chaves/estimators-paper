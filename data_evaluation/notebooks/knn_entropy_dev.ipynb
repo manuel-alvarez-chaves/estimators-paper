{
 "cells": [
  {
   "cell_type": "code",
   "execution_count": 1,
   "metadata": {},
   "outputs": [],
   "source": [
    "import h5py\n",
    "import ast\n",
    "from utils.misc_utils import get_logger\n",
    "\n",
    "import numpy as np\n",
    "from scipy import stats\n",
    "from scipy.special import gamma, digamma\n",
    "from scipy.integrate import nquad\n",
    "\n",
    "from unite_toolbox.knn_estimators import calc_knn_entropy"
   ]
  },
  {
   "cell_type": "code",
   "execution_count": 2,
   "metadata": {},
   "outputs": [
    {
     "name": "stdout",
     "output_type": "stream",
     "text": [
      "data_path - data.hdf5\n",
      "out_path - results/knn.hdf5\n",
      "logger - <RootLogger root (DEBUG)>\n",
      "quantity - H\n",
      "hyper_params - [1, 3, 5, 15, 50]\n",
      "sample_sizes - [100, 200, 500, 1000, 5000, 10000, 50000, 100000]\n",
      "seeds - range(1, 3)\n",
      "results - None\n"
     ]
    }
   ],
   "source": [
    "from utils.knn_evaluators import Evaluator_KNN\n",
    "\n",
    "eval = Evaluator_KNN()\n",
    "\n",
    "eval.data_path = \"data.hdf5\"\n",
    "eval.out_path = \"results/knn.hdf5\"\n",
    "eval.logger = get_logger(\"results/knn_entropy.log\")\n",
    "\n",
    "eval.quantity = \"H\"\n",
    "\n",
    "eval.hyper_params = [1, 3, 5, 15, 50]\n",
    "eval.sample_sizes = [100, 200, 500, 1_000, 5_000, 10_000, 50_000, 100_000]\n",
    "eval.seeds = range(1, 3)\n",
    "\n",
    "for k, v in vars(eval).items():\n",
    "    print(f\"{k} - {v}\")\n",
    "\n",
    "eval.create_database()\n",
    "eval.create_group()"
   ]
  },
  {
   "cell_type": "code",
   "execution_count": 3,
   "metadata": {},
   "outputs": [
    {
     "name": "stderr",
     "output_type": "stream",
     "text": [
      "2023-11-14 10:57:56 - Creating converter from 3 to 5\n",
      "2023-11-14 10:57:56 - (UNIFORM, 1, 10000, 1) - Time: 0.00710 s - Est.: 0.437 nats\n",
      "2023-11-14 10:57:58 - (UNIFORM, 1, 10000, 2) - Time: 0.00700 s - Est.: 0.424 nats\n"
     ]
    },
    {
     "name": "stdout",
     "output_type": "stream",
     "text": [
      "True entropy: 0.405 nats\n"
     ]
    }
   ],
   "source": [
    "# # # # # UNIFORM # # # # #\n",
    "\n",
    "experiment = \"uniform\"\n",
    "# Calculate Truth\n",
    "with h5py.File(eval.data_path, \"r\") as f:\n",
    "    dist_params = ast.literal_eval(f[experiment][\"p\"].attrs[\"hyper_params\"])\n",
    "\n",
    "true_h = np.log(dist_params[0][1]) # Reference\n",
    "\n",
    "eval.evaluate(experiment, calc_knn_entropy, 1)\n",
    "\n",
    "# Save\n",
    "eval.write_single_to_hdf5(experiment, true_h)\n",
    "print(f\"True entropy: {true_h:.3f} nats\")"
   ]
  },
  {
   "cell_type": "code",
   "execution_count": 4,
   "metadata": {},
   "outputs": [
    {
     "name": "stderr",
     "output_type": "stream",
     "text": [
      "2023-11-14 10:57:59 - (NORMAL, 1, 10000, 1) - Time: 0.00887 s - Est.: 2.332 nats\n",
      "2023-11-14 10:58:01 - (NORMAL, 1, 10000, 2) - Time: 0.00663 s - Est.: 2.329 nats\n",
      "2023-11-14 10:58:02 - Creating converter from 5 to 3\n"
     ]
    },
    {
     "name": "stdout",
     "output_type": "stream",
     "text": [
      "True entropy: 2.335 nats\n"
     ]
    }
   ],
   "source": [
    "# # # # # NORMAL # # # # #\n",
    "\n",
    "experiment = \"normal\"\n",
    "\n",
    "# Calculate Truth\n",
    "with h5py.File(eval.data_path, \"r\") as f:\n",
    "    dist_params = ast.literal_eval(f[experiment][\"p\"].attrs[\"hyper_params\"])\n",
    "\n",
    "true_h = 0.5 * np.log(2 * np.pi * (dist_params[0][1]**2)) + 0.5 # Reference\n",
    "\n",
    "eval.evaluate(experiment, calc_knn_entropy, 1)\n",
    "\n",
    "# Save\n",
    "eval.write_single_to_hdf5(experiment, true_h)\n",
    "print(f\"True entropy: {true_h:.3f} nats\")"
   ]
  },
  {
   "cell_type": "code",
   "execution_count": 5,
   "metadata": {},
   "outputs": [
    {
     "name": "stderr",
     "output_type": "stream",
     "text": [
      "2023-11-14 10:58:23 - (NORMAL-MIXTURE, 1, 10000, 1) - Time: 0.00697 s - Est.: 2.364 nats\n",
      "2023-11-14 10:58:25 - (NORMAL-MIXTURE, 1, 10000, 2) - Time: 0.00729 s - Est.: 2.358 nats\n"
     ]
    },
    {
     "name": "stdout",
     "output_type": "stream",
     "text": [
      "True entropy: 2.385 nats\n"
     ]
    }
   ],
   "source": [
    "# # # # # NORMAL-MIXTURE # # # # #\n",
    "\n",
    "experiment = \"normal-mixture\"\n",
    "\n",
    "# Calculate Truth\n",
    "with h5py.File(eval.data_path, \"r\") as f:\n",
    "    dist_params = ast.literal_eval(f[experiment][\"p\"].attrs[\"hyper_params\"])\n",
    "\n",
    "def pdf_normal(x, params):\n",
    "    y = 0.0\n",
    "    for dist in params:\n",
    "        l, s, w = dist\n",
    "        y += stats.norm(loc=l, scale=s).pdf(x) * w\n",
    "    return y\n",
    "\n",
    "def h_normal(x, params):\n",
    "    p = pdf_normal(x, params)\n",
    "    return -1 * p * np.log(p)\n",
    "\n",
    "norm_lims = [[-15, 25]]\n",
    "\n",
    "true_h = nquad(h_normal, norm_lims, args=(dist_params,))[0] # Numerical Integration Result\n",
    "\n",
    "eval.evaluate(experiment, calc_knn_entropy, 1)\n",
    "\n",
    "# Save\n",
    "eval.write_single_to_hdf5(experiment, true_h)\n",
    "print(f\"True entropy: {true_h:.3f} nats\")"
   ]
  },
  {
   "cell_type": "code",
   "execution_count": 6,
   "metadata": {},
   "outputs": [
    {
     "name": "stderr",
     "output_type": "stream",
     "text": [
      "2023-11-14 10:59:03 - (EXPONENTIAL, 1, 10000, 1) - Time: 0.01345 s - Est.: 0.301 nats\n",
      "2023-11-14 10:59:04 - (EXPONENTIAL, 1, 10000, 2) - Time: 0.00657 s - Est.: 0.272 nats\n"
     ]
    },
    {
     "name": "stdout",
     "output_type": "stream",
     "text": [
      "True entropy: 0.307 nats\n"
     ]
    }
   ],
   "source": [
    "# # # # # EXPONENTIAL # # # # #\n",
    "\n",
    "experiment = \"exponential\"\n",
    "\n",
    "# Calculate Truth\n",
    "with h5py.File(eval.data_path, \"r\") as f:\n",
    "    dist_params = ast.literal_eval(f[experiment][\"p\"].attrs[\"hyper_params\"])\n",
    "\n",
    "true_h = 1 - np.log(1/dist_params[0][1]) # Reference\n",
    "\n",
    "eval.evaluate(experiment, calc_knn_entropy, 1)\n",
    "\n",
    "# Save\n",
    "eval.write_single_to_hdf5(experiment, true_h)\n",
    "print(f\"True entropy: {true_h:.3f} nats\")"
   ]
  },
  {
   "cell_type": "code",
   "execution_count": 7,
   "metadata": {},
   "outputs": [
    {
     "name": "stderr",
     "output_type": "stream",
     "text": [
      "2023-11-14 10:59:13 - (BIVARIATE-NORMAL, 1, 10000, 1) - Time: 0.00887 s - Est.: 2.724 nats\n",
      "2023-11-14 10:59:16 - (BIVARIATE-NORMAL, 1, 10000, 2) - Time: 0.01114 s - Est.: 2.698 nats\n"
     ]
    },
    {
     "name": "stdout",
     "output_type": "stream",
     "text": [
      "True entropy: 2.694 nats\n"
     ]
    }
   ],
   "source": [
    "# # # # # BIVARIATE-NORMAL # # # # #\n",
    "\n",
    "experiment = \"bivariate-normal\"\n",
    "\n",
    "# Calculate Truth\n",
    "with h5py.File(eval.data_path, \"r\") as f:\n",
    "    dist_params = ast.literal_eval(f[experiment][\"p\"].attrs[\"hyper_params\"])\n",
    "\n",
    "d = len(dist_params[0][1])\n",
    "true_h = 0.5 * np.log((2 * np.pi * np.exp(1)) ** d * np.linalg.det(dist_params[0][1])) # Reference\n",
    "\n",
    "eval.evaluate(experiment, calc_knn_entropy, 1)\n",
    "\n",
    "# Save\n",
    "eval.write_single_to_hdf5(experiment, true_h)\n",
    "print(f\"True entropy: {true_h:.3f} nats\")"
   ]
  },
  {
   "cell_type": "code",
   "execution_count": 8,
   "metadata": {},
   "outputs": [
    {
     "name": "stderr",
     "output_type": "stream",
     "text": [
      "2023-11-14 10:59:30 - (BIVARIATE-NORMAL-MIXTURE, 1, 10000, 1) - Time: 0.01088 s - Est.: 3.336 nats\n",
      "2023-11-14 10:59:33 - (BIVARIATE-NORMAL-MIXTURE, 1, 10000, 2) - Time: 0.01014 s - Est.: 3.322 nats\n"
     ]
    },
    {
     "name": "stdout",
     "output_type": "stream",
     "text": [
      "True entropy: 3.330 nats\n"
     ]
    }
   ],
   "source": [
    "# # # # # BIVARIATE-NORMAL-MIXTURE # # # # #\n",
    "\n",
    "experiment = \"bivariate-normal-mixture\"\n",
    "\n",
    "# Calculate Truth\n",
    "with h5py.File(eval.data_path, \"r\") as f:\n",
    "    dist_params = ast.literal_eval(f[experiment][\"p\"].attrs[\"hyper_params\"])\n",
    "\n",
    "def pdf_mnorm(x, y, params):\n",
    "    z = 0.0\n",
    "    for dist in params:\n",
    "        l, s, w = dist\n",
    "        z += stats.multivariate_normal(mean=l, cov=s).pdf(np.dstack((x, y))) * w\n",
    "    return z\n",
    "\n",
    "def h_mnorm(x, y, params1):\n",
    "    p = pdf_mnorm(x, y, params1)\n",
    "    return -1 * p * np.log(p)\n",
    "\n",
    "binorm_lims = [[-7, 7], [-7, 7]]\n",
    "\n",
    "true_h = nquad(h_mnorm, binorm_lims, args=(dist_params,))[0] # Numerical Integration Result\n",
    "\n",
    "eval.evaluate(experiment, calc_knn_entropy, 1)\n",
    "\n",
    "# Save\n",
    "eval.write_single_to_hdf5(experiment, true_h)\n",
    "print(f\"True entropy: {true_h:.3f} nats\")"
   ]
  },
  {
   "cell_type": "code",
   "execution_count": 9,
   "metadata": {},
   "outputs": [
    {
     "name": "stderr",
     "output_type": "stream",
     "text": [
      "2023-11-14 10:59:40 - (GEXP, 1, 10000, 1) - Time: 0.01468 s - Est.: 1.937 nats\n",
      "2023-11-14 10:59:43 - (GEXP, 1, 10000, 2) - Time: 0.01015 s - Est.: 1.921 nats\n"
     ]
    },
    {
     "name": "stdout",
     "output_type": "stream",
     "text": [
      "True entropy: 1.925 nats\n"
     ]
    }
   ],
   "source": [
    "# # # # # GAMMA-EXPONENTIAL # # # # #\n",
    "\n",
    "experiment = \"gexp\"\n",
    "\n",
    "# Calculate Truth\n",
    "with h5py.File(eval.data_path, \"r\") as f:\n",
    "    dist_params = ast.literal_eval(f[experiment][\"p\"].attrs[\"hyper_params\"])\n",
    "\n",
    "tetha = dist_params[0][0]\n",
    "true_h = 1 +  tetha - tetha * digamma(tetha) + np.log(gamma(tetha)) - np.log(1.0) # Reference\n",
    "\n",
    "eval.evaluate(experiment, calc_knn_entropy, 1)\n",
    "\n",
    "# Save\n",
    "eval.write_single_to_hdf5(experiment, true_h)\n",
    "print(f\"True entropy: {true_h:.3f} nats\")"
   ]
  },
  {
   "cell_type": "code",
   "execution_count": 10,
   "metadata": {},
   "outputs": [
    {
     "name": "stderr",
     "output_type": "stream",
     "text": [
      "2023-11-14 10:59:55 - (4D-GAUSSIAN, 1, 10000, 1) - Time: 0.02360 s - Est.: 5.080 nats\n",
      "2023-11-14 11:00:02 - (4D-GAUSSIAN, 1, 10000, 2) - Time: 0.01982 s - Est.: 5.097 nats\n"
     ]
    },
    {
     "name": "stdout",
     "output_type": "stream",
     "text": [
      "True entropy: 5.094 nats\n"
     ]
    }
   ],
   "source": [
    "# # # # # 4D-GAUSSIAN # # # # #\n",
    "\n",
    "experiment = \"4d-gaussian\"\n",
    "\n",
    "# Calculate Truth\n",
    "with h5py.File(eval.data_path, \"r\") as f:\n",
    "    dist_params = ast.literal_eval(f[experiment][\"p\"].attrs[\"hyper_params\"])\n",
    "\n",
    "d = len(dist_params[0][1])\n",
    "true_h = 0.5 * np.log((2 * np.pi * np.exp(1)) ** d * np.linalg.det(dist_params[0][1])) # Reference\n",
    "\n",
    "eval.evaluate(experiment, calc_knn_entropy, 1)\n",
    "\n",
    "# Save\n",
    "eval.write_single_to_hdf5(experiment, true_h)\n",
    "print(f\"True entropy: {true_h:.3f} nats\")"
   ]
  },
  {
   "cell_type": "code",
   "execution_count": 11,
   "metadata": {},
   "outputs": [
    {
     "name": "stderr",
     "output_type": "stream",
     "text": [
      "2023-11-14 11:00:17 - (10D-GAUSSIAN, 1, 10000, 1) - Time: 0.25864 s - Est.: 4.976 nats\n",
      "2023-11-14 11:03:47 - (10D-GAUSSIAN, 1, 10000, 2) - Time: 0.32724 s - Est.: 4.981 nats\n"
     ]
    },
    {
     "name": "stdout",
     "output_type": "stream",
     "text": [
      "True entropy: 4.932 nats\n"
     ]
    }
   ],
   "source": [
    "# # # # # 10D-GAUSSIAN # # # # #\n",
    "\n",
    "experiment = \"10d-gaussian\"\n",
    "\n",
    "# Calculate Truth\n",
    "with h5py.File(eval.data_path, \"r\") as f:\n",
    "   dist_params = ast.literal_eval(f[experiment][\"p\"].attrs[\"hyper_params\"])\n",
    "\n",
    "d = len(dist_params[0][1])\n",
    "true_h = 0.5 * np.log((2 * np.pi * np.exp(1)) ** d * np.linalg.det(dist_params[0][1])) # Reference\n",
    "\n",
    "eval.evaluate(experiment, calc_knn_entropy, 1)\n",
    "\n",
    "# Save\n",
    "eval.write_single_to_hdf5(experiment, true_h)\n",
    "print(f\"True entropy: {true_h:.3f} nats\")"
   ]
  }
 ],
 "metadata": {
  "kernelspec": {
   "display_name": "env_unite",
   "language": "python",
   "name": "python3"
  },
  "language_info": {
   "codemirror_mode": {
    "name": "ipython",
    "version": 3
   },
   "file_extension": ".py",
   "mimetype": "text/x-python",
   "name": "python",
   "nbconvert_exporter": "python",
   "pygments_lexer": "ipython3",
   "version": "3.11.5"
  }
 },
 "nbformat": 4,
 "nbformat_minor": 2
}
