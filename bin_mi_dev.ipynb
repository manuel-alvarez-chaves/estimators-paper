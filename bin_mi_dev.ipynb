{
 "cells": [
  {
   "cell_type": "code",
   "execution_count": 2,
   "metadata": {},
   "outputs": [],
   "source": [
    "import h5py\n",
    "import ast\n",
    "from utils.misc_utils import get_logger\n",
    "\n",
    "import numpy as np\n",
    "from scipy import stats\n",
    "from scipy.special import gamma, digamma\n",
    "from scipy.integrate import nquad\n",
    "\n",
    "from unite_toolbox.bin_estimators import calc_bin_mutual_information"
   ]
  },
  {
   "cell_type": "code",
   "execution_count": 3,
   "metadata": {},
   "outputs": [
    {
     "name": "stdout",
     "output_type": "stream",
     "text": [
      "data_path - data.hdf5\n",
      "out_path - results/mi.hdf5\n",
      "logger - <RootLogger root (DEBUG)>\n",
      "quantity - mi\n",
      "hyper_params - ['scott', 'fd', 'sturges']\n",
      "sample_sizes - [100, 200, 500, 1000, 5000, 10000, 50000, 100000]\n",
      "seeds - range(1, 6)\n",
      "results - None\n"
     ]
    }
   ],
   "source": [
    "from utils.bin_evaluators import EvaluatorBIN\n",
    "\n",
    "eval = EvaluatorBIN()\n",
    "\n",
    "eval.data_path = \"data.hdf5\"\n",
    "eval.out_path = \"results/mi.hdf5\"\n",
    "eval.logger = get_logger(\"results/bin_mi.log\")\n",
    "\n",
    "eval.quantity = \"mi\"\n",
    "\n",
    "eval.hyper_params = [\"scott\", \"fd\", \"sturges\"]\n",
    "eval.sample_sizes = [100, 200, 500, 1_000, 5_000, 10_000, 50_000, 100_000]\n",
    "eval.seeds = range(1, 6)\n",
    "\n",
    "for k, v in vars(eval).items():\n",
    "    print(f\"{k} - {v}\")\n",
    "\n",
    "\n",
    "eval.create_database()\n",
    "eval.create_group()\n",
    "\n",
    "experiments = [\n",
    "    \"bivariate-normal\",\n",
    "    \"bivariate-normal-mixture\",\n",
    "    \"gexp\",\n",
    "    \"4d-gaussian\"\n",
    "]"
   ]
  },
  {
   "cell_type": "code",
   "execution_count": 6,
   "metadata": {},
   "outputs": [
    {
     "name": "stderr",
     "output_type": "stream",
     "text": [
      "2023-11-09 19:12:25 - (BIVARIATE-NORMAL, scott, 10000, 1) - Time: 0.00509 s - Est.: 0.210 nats\n",
      "2023-11-09 19:12:26 - (BIVARIATE-NORMAL, scott, 10000, 2) - Time: 0.00484 s - Est.: 0.217 nats\n",
      "2023-11-09 19:12:26 - (BIVARIATE-NORMAL, scott, 10000, 3) - Time: 0.00547 s - Est.: 0.206 nats\n",
      "2023-11-09 19:12:26 - (BIVARIATE-NORMAL, scott, 10000, 4) - Time: 0.00371 s - Est.: 0.208 nats\n",
      "2023-11-09 19:12:26 - (BIVARIATE-NORMAL, scott, 10000, 5) - Time: 0.00357 s - Est.: 0.215 nats\n"
     ]
    },
    {
     "name": "stdout",
     "output_type": "stream",
     "text": [
      "True mutual information: 0.144 nats\n"
     ]
    }
   ],
   "source": [
    "# # # # # BIVARIATE NORMAL # # # # #\n",
    "\n",
    "experiment = \"bivariate-normal\"\n",
    "\n",
    "# Calculate Truth\n",
    "with h5py.File(eval.data_path, \"r\") as f:\n",
    "    dist_params = ast.literal_eval(f[experiment][\"p\"].attrs[\"hyper_params\"])\n",
    "\n",
    "cov = np.array(dist_params[0][1])\n",
    "d = len(cov)\n",
    "true_mi = 0.5 * np.log(cov[0, 0] * cov[-1, -1] / np.linalg.det(cov)) # Reference\n",
    "\n",
    "eval.evaluate_mutual_information(experiment, \"scott\")\n",
    "\n",
    "# Save\n",
    "eval.write_single_to_hdf5(experiment, true_mi)\n",
    "print(f\"True mutual information: {true_mi:.3f} nats\")"
   ]
  },
  {
   "cell_type": "code",
   "execution_count": 7,
   "metadata": {},
   "outputs": [
    {
     "name": "stderr",
     "output_type": "stream",
     "text": [
      "2023-11-09 19:14:21 - (BIVARIATE-NORMAL-MIXTURE, scott, 10000, 1) - Time: 0.00569 s - Est.: 0.191 nats\n",
      "2023-11-09 19:14:21 - (BIVARIATE-NORMAL-MIXTURE, scott, 10000, 2) - Time: 0.00556 s - Est.: 0.188 nats\n",
      "2023-11-09 19:14:21 - (BIVARIATE-NORMAL-MIXTURE, scott, 10000, 3) - Time: 0.00494 s - Est.: 0.181 nats\n",
      "2023-11-09 19:14:21 - (BIVARIATE-NORMAL-MIXTURE, scott, 10000, 4) - Time: 0.00401 s - Est.: 0.188 nats\n",
      "2023-11-09 19:14:22 - (BIVARIATE-NORMAL-MIXTURE, scott, 10000, 5) - Time: 0.00605 s - Est.: 0.190 nats\n"
     ]
    },
    {
     "name": "stdout",
     "output_type": "stream",
     "text": [
      "True mutual information: 0.140 nats\n"
     ]
    }
   ],
   "source": [
    "# # # # # BIVARIATE-NORMAL-MIXTURE # # # # #\n",
    "\n",
    "experiment = \"bivariate-normal-mixture\"\n",
    "\n",
    "# Calculate Truth\n",
    "with h5py.File(eval.data_path, \"r\") as f:\n",
    "    dist_params = ast.literal_eval(f[experiment][\"p\"].attrs[\"hyper_params\"])\n",
    "\n",
    "def pdf_normal(x, params):\n",
    "    y = 0.0\n",
    "    for dist in params:\n",
    "        l, s, w = dist\n",
    "        y += stats.norm(loc=l, scale=s).pdf(x) * w\n",
    "    return y\n",
    "\n",
    "def pdf_mnorm(x, y, params):\n",
    "    z = 0.0\n",
    "    for dist in params:\n",
    "        l, s, w = dist\n",
    "        z += stats.multivariate_normal(mean=l, cov=s).pdf(np.dstack((x, y))) * w\n",
    "    return z\n",
    "\n",
    "def mi_mnorm(x, y, params1):\n",
    "    params_x = []\n",
    "    params_y = []\n",
    "    for dist in params1:\n",
    "        params_x.append([dist[0][0], dist[1][0][0], dist[2]])\n",
    "        params_y.append([dist[0][1], dist[1][1][1], dist[2]])\n",
    "\n",
    "    pxy = pdf_mnorm(x, y, params1)\n",
    "    px = pdf_normal(x, params_x)\n",
    "    py = pdf_normal(y, params_y)\n",
    "    \n",
    "    return pxy * np.log(pxy / (px * py))\n",
    "\n",
    "\n",
    "binorm_lims = [[-7, 7], [-7, 7]]\n",
    "\n",
    "true_mi = nquad(mi_mnorm, binorm_lims, args=(dist_params,))[0] # Numerical Integration Result\n",
    "\n",
    "eval.evaluate_mutual_information(experiment, \"scott\")\n",
    "\n",
    "# Save\n",
    "eval.write_single_to_hdf5(experiment, true_mi)\n",
    "print(f\"True mutual information: {true_mi:.3f} nats\")"
   ]
  },
  {
   "cell_type": "code",
   "execution_count": 9,
   "metadata": {},
   "outputs": [
    {
     "name": "stderr",
     "output_type": "stream",
     "text": [
      "2023-11-09 19:15:02 - (GEXP, scott, 10000, 1) - Time: 0.00580 s - Est.: 0.191 nats\n"
     ]
    },
    {
     "name": "stderr",
     "output_type": "stream",
     "text": [
      "2023-11-09 19:15:03 - (GEXP, scott, 10000, 2) - Time: 0.00463 s - Est.: 0.202 nats\n",
      "2023-11-09 19:15:03 - (GEXP, scott, 10000, 3) - Time: 0.00355 s - Est.: 0.187 nats\n",
      "2023-11-09 19:15:03 - (GEXP, scott, 10000, 4) - Time: 0.00384 s - Est.: 0.183 nats\n",
      "2023-11-09 19:15:03 - (GEXP, scott, 10000, 5) - Time: 0.00473 s - Est.: 0.183 nats\n"
     ]
    },
    {
     "name": "stdout",
     "output_type": "stream",
     "text": [
      "True mutual information: 0.158 nats\n"
     ]
    }
   ],
   "source": [
    "# # # # # GAMMA-EXPONENTIAL # # # # #\n",
    "\n",
    "experiment = \"gexp\"\n",
    "\n",
    "# Calculate Truth\n",
    "with h5py.File(eval.data_path, \"r\") as f:\n",
    "    dist_params = ast.literal_eval(f[experiment][\"p\"].attrs[\"hyper_params\"])\n",
    "\n",
    "tetha = dist_params[0][0]\n",
    "true_mi = digamma(tetha) - np.log(tetha) + (1 / tetha) # Reference\n",
    "\n",
    "eval.evaluate_mutual_information(experiment, \"scott\")\n",
    "\n",
    "# Save\n",
    "eval.write_single_to_hdf5(experiment, true_mi)\n",
    "print(f\"True mutual information: {true_mi:.3f} nats\")"
   ]
  },
  {
   "cell_type": "code",
   "execution_count": 10,
   "metadata": {},
   "outputs": [
    {
     "name": "stderr",
     "output_type": "stream",
     "text": [
      "2023-11-09 19:15:16 - (4D-GAUSSIAN, scott, 10000, 1) - Time: 4.54912 s - Est.: 2.645 nats\n"
     ]
    },
    {
     "name": "stdout",
     "output_type": "stream",
     "text": [
      "True mutual information: 0.235 nats\n"
     ]
    }
   ],
   "source": [
    "# # # # # 4D GAUSSIAN # # # # #\n",
    "\n",
    "experiment = \"4d-gaussian\"\n",
    "eval.seeds = range(1, 2)\n",
    "\n",
    "# Calculate Truth\n",
    "with h5py.File(eval.data_path, \"r\") as f:\n",
    "    dist_params = ast.literal_eval(f[experiment][\"p\"].attrs[\"hyper_params\"])\n",
    "\n",
    "cov = np.array(dist_params[0][1])\n",
    "d = len(cov)\n",
    "true_mi = 0.5 * np.log(np.linalg.det(cov[:d-1,:d-1]) * cov[-1, -1] / np.linalg.det(cov)) # Reference\n",
    "\n",
    "eval.evaluate_mutual_information(experiment, \"scott\")\n",
    "\n",
    "# Save\n",
    "eval.write_single_to_hdf5(experiment, true_mi)\n",
    "print(f\"True mutual information: {true_mi:.3f} nats\")"
   ]
  }
 ],
 "metadata": {
  "kernelspec": {
   "display_name": "env_unite",
   "language": "python",
   "name": "python3"
  },
  "language_info": {
   "codemirror_mode": {
    "name": "ipython",
    "version": 3
   },
   "file_extension": ".py",
   "mimetype": "text/x-python",
   "name": "python",
   "nbconvert_exporter": "python",
   "pygments_lexer": "ipython3",
   "version": "3.11.5"
  }
 },
 "nbformat": 4,
 "nbformat_minor": 2
}
