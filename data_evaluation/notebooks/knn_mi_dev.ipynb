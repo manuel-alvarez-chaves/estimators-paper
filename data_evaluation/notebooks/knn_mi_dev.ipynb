{
 "cells": [
  {
   "cell_type": "code",
   "execution_count": 1,
   "metadata": {},
   "outputs": [],
   "source": [
    "import h5py\n",
    "import ast\n",
    "from utils.misc_utils import get_logger\n",
    "\n",
    "import numpy as np\n",
    "from scipy import stats\n",
    "from scipy.special import gamma, digamma\n",
    "from scipy.integrate import nquad"
   ]
  },
  {
   "cell_type": "code",
   "execution_count": 2,
   "metadata": {},
   "outputs": [
    {
     "name": "stdout",
     "output_type": "stream",
     "text": [
      "data_path - data.hdf5\n",
      "out_path - results/knn.hdf5\n",
      "logger - <RootLogger root (DEBUG)>\n",
      "quantity - MI\n",
      "hyper_params - [1, 3, 5, 15, 50]\n",
      "sample_sizes - [100, 200, 500, 1000, 5000, 10000, 50000, 100000]\n",
      "seeds - range(1, 3)\n",
      "results - None\n"
     ]
    }
   ],
   "source": [
    "from utils.knn_evaluators import Evaluator_KNN\n",
    "\n",
    "eval = Evaluator_KNN()\n",
    "\n",
    "eval.data_path = \"data.hdf5\"\n",
    "eval.out_path = \"results/knn.hdf5\"\n",
    "eval.logger = get_logger(\"results/knn_mi.log\")\n",
    "\n",
    "eval.quantity = \"MI\"\n",
    "\n",
    "eval.hyper_params = [1, 3, 5, 15, 50]\n",
    "eval.sample_sizes = [100, 200, 500, 1_000, 5_000, 10_000, 50_000, 100_000]\n",
    "eval.seeds = range(1, 3)\n",
    "\n",
    "for k, v in vars(eval).items():\n",
    "    print(f\"{k} - {v}\")\n",
    "\n",
    "eval.create_database()\n",
    "eval.create_group()"
   ]
  },
  {
   "cell_type": "code",
   "execution_count": 3,
   "metadata": {},
   "outputs": [
    {
     "name": "stderr",
     "output_type": "stream",
     "text": [
      "2023-11-14 11:13:22 - Creating converter from 3 to 5\n",
      "2023-11-14 11:13:23 - (BIVARIATE-NORMAL, 15, 10000, 1) - Time: 0.11398 s - Est.: 0.142 nats\n",
      "2023-11-14 11:13:36 - (BIVARIATE-NORMAL, 15, 10000, 2) - Time: 0.11948 s - Est.: 0.148 nats\n",
      "2023-11-14 11:13:53 - Creating converter from 5 to 3\n"
     ]
    },
    {
     "name": "stdout",
     "output_type": "stream",
     "text": [
      "True mutual information: 0.144 nats\n"
     ]
    }
   ],
   "source": [
    "# # # # # BIVARIATE-NORMAL # # # # #\n",
    "\n",
    "experiment = \"bivariate-normal\"\n",
    "\n",
    "# Calculate Truth\n",
    "with h5py.File(eval.data_path, \"r\") as f:\n",
    "    dist_params = ast.literal_eval(f[experiment][\"p\"].attrs[\"hyper_params\"])\n",
    "\n",
    "cov = np.array(dist_params[0][1])\n",
    "d = len(cov)\n",
    "true_mi = 0.5 * np.log(cov[0, 0] * cov[-1, -1] / np.linalg.det(cov)) # Reference\n",
    "\n",
    "eval.evaluate_mutual_information(experiment, 15)\n",
    "\n",
    "# Save\n",
    "eval.write_single_to_hdf5(experiment, true_mi)\n",
    "print(f\"True mutual information: {true_mi:.3f} nats\")"
   ]
  },
  {
   "cell_type": "code",
   "execution_count": 4,
   "metadata": {},
   "outputs": [
    {
     "name": "stderr",
     "output_type": "stream",
     "text": [
      "2023-11-14 11:15:07 - (BIVARIATE-NORMAL-MIXTURE, 15, 10000, 1) - Time: 0.13439 s - Est.: 0.136 nats\n",
      "2023-11-14 11:15:26 - (BIVARIATE-NORMAL-MIXTURE, 15, 10000, 2) - Time: 0.17010 s - Est.: 0.137 nats\n"
     ]
    },
    {
     "name": "stdout",
     "output_type": "stream",
     "text": [
      "True mutual information: 0.140 nats\n"
     ]
    }
   ],
   "source": [
    "# # # # # BIVARIATE-NORMAL-MIXTURE # # # # #\n",
    "\n",
    "experiment = \"bivariate-normal-mixture\"\n",
    "\n",
    "# Calculate Truth\n",
    "with h5py.File(eval.data_path, \"r\") as f:\n",
    "    dist_params = ast.literal_eval(f[experiment][\"p\"].attrs[\"hyper_params\"])\n",
    "\n",
    "def pdf_normal(x, params):\n",
    "    y = 0.0\n",
    "    for dist in params:\n",
    "        l, s, w = dist\n",
    "        y += stats.norm(loc=l, scale=s).pdf(x) * w\n",
    "    return y\n",
    "\n",
    "def pdf_mnorm(x, y, params):\n",
    "    z = 0.0\n",
    "    for dist in params:\n",
    "        l, s, w = dist\n",
    "        z += stats.multivariate_normal(mean=l, cov=s).pdf(np.dstack((x, y))) * w\n",
    "    return z\n",
    "\n",
    "def mi_mnorm(x, y, params1):\n",
    "    params_x = []\n",
    "    params_y = []\n",
    "    for dist in params1:\n",
    "        params_x.append([dist[0][0], dist[1][0][0], dist[2]])\n",
    "        params_y.append([dist[0][1], dist[1][1][1], dist[2]])\n",
    "\n",
    "    pxy = pdf_mnorm(x, y, params1)\n",
    "    px = pdf_normal(x, params_x)\n",
    "    py = pdf_normal(y, params_y)\n",
    "    \n",
    "    return pxy * np.log(pxy / (px * py))\n",
    "\n",
    "\n",
    "binorm_lims = [[-7, 7], [-7, 7]]\n",
    "\n",
    "true_mi = nquad(mi_mnorm, binorm_lims, args=(dist_params,))[0] # Numerical Integration Result\n",
    "\n",
    "eval.evaluate_mutual_information(experiment, 15)\n",
    "\n",
    "# Save\n",
    "eval.write_single_to_hdf5(experiment, true_mi)\n",
    "print(f\"True mutual information: {true_mi:.3f} nats\")"
   ]
  },
  {
   "cell_type": "code",
   "execution_count": 5,
   "metadata": {},
   "outputs": [
    {
     "name": "stderr",
     "output_type": "stream",
     "text": [
      "2023-11-14 11:16:16 - (GEXP, 15, 10000, 1) - Time: 0.11102 s - Est.: 0.152 nats\n",
      "2023-11-14 11:16:37 - (GEXP, 15, 10000, 2) - Time: 0.19146 s - Est.: 0.154 nats\n"
     ]
    },
    {
     "name": "stdout",
     "output_type": "stream",
     "text": [
      "True mutual information: 0.158 nats\n"
     ]
    }
   ],
   "source": [
    "# # # # # GAMMA-EXPONENTIAL # # # # #\n",
    "\n",
    "experiment = \"gexp\"\n",
    "\n",
    "# Calculate Truth\n",
    "with h5py.File(eval.data_path, \"r\") as f:\n",
    "    dist_params = ast.literal_eval(f[experiment][\"p\"].attrs[\"hyper_params\"])\n",
    "\n",
    "tetha = dist_params[0][0]\n",
    "true_mi = digamma(tetha) - np.log(tetha) + (1 / tetha) # Reference\n",
    "\n",
    "eval.evaluate_mutual_information(experiment, 15)\n",
    "\n",
    "# Save\n",
    "eval.write_single_to_hdf5(experiment, true_mi)\n",
    "print(f\"True mutual information: {true_mi:.3f} nats\")"
   ]
  },
  {
   "cell_type": "code",
   "execution_count": 6,
   "metadata": {},
   "outputs": [
    {
     "name": "stderr",
     "output_type": "stream",
     "text": [
      "2023-11-14 11:17:21 - (4D-GAUSSIAN, 15, 10000, 1) - Time: 0.48243 s - Est.: 0.226 nats\n"
     ]
    },
    {
     "name": "stdout",
     "output_type": "stream",
     "text": [
      "True mutual information: 0.235 nats\n"
     ]
    }
   ],
   "source": [
    "# # # # # 4D GAUSSIAN # # # # #\n",
    "\n",
    "experiment = \"4d-gaussian\"\n",
    "\n",
    "# Calculate Truth\n",
    "with h5py.File(eval.data_path, \"r\") as f:\n",
    "    dist_params = ast.literal_eval(f[experiment][\"p\"].attrs[\"hyper_params\"])\n",
    "\n",
    "cov = np.array(dist_params[0][1])\n",
    "d = len(cov)\n",
    "true_mi = 0.5 * np.log(np.linalg.det(cov[:d-1,:d-1]) * cov[-1, -1] / np.linalg.det(cov)) # Reference\n",
    "\n",
    "eval.evaluate_mutual_information(experiment, 15)\n",
    "\n",
    "# Save\n",
    "eval.write_single_to_hdf5(experiment, true_mi)\n",
    "print(f\"True mutual information: {true_mi:.3f} nats\")"
   ]
  },
  {
   "cell_type": "code",
   "execution_count": 8,
   "metadata": {},
   "outputs": [
    {
     "name": "stderr",
     "output_type": "stream",
     "text": [
      "2023-11-14 11:19:56 - (10D-GAUSSIAN, 15, 10000, 1) - Time: 2.68919 s - Est.: 1.007 nats\n"
     ]
    },
    {
     "name": "stdout",
     "output_type": "stream",
     "text": [
      "True mutual information: 1.099 nats\n"
     ]
    }
   ],
   "source": [
    "eval.sample_sizes = [100, 200, 500, 1_000, 5_000, 10_000, 50_000]\n",
    "\n",
    "# # # # # 10D-GAUSSIAN # # # # #\n",
    "\n",
    "experiment = \"10d-gaussian\"\n",
    "\n",
    "# Calculate Truth\n",
    "with h5py.File(eval.data_path, \"r\") as f:\n",
    "   dist_params = ast.literal_eval(f[experiment][\"p\"].attrs[\"hyper_params\"])\n",
    "\n",
    "cov = np.array(dist_params[0][1])\n",
    "d = len(cov)\n",
    "true_mi = 0.5 * np.log(np.linalg.det(cov[:d-1,:d-1]) * cov[-1, -1] / np.linalg.det(cov)) # Reference\n",
    "\n",
    "eval.evaluate_mutual_information(experiment, 15)\n",
    "\n",
    "# Save\n",
    "eval.write_single_to_hdf5(experiment, true_mi)\n",
    "print(f\"True mutual information: {true_mi:.3f} nats\")"
   ]
  }
 ],
 "metadata": {
  "kernelspec": {
   "display_name": "env_unite",
   "language": "python",
   "name": "python3"
  },
  "language_info": {
   "codemirror_mode": {
    "name": "ipython",
    "version": 3
   },
   "file_extension": ".py",
   "mimetype": "text/x-python",
   "name": "python",
   "nbconvert_exporter": "python",
   "pygments_lexer": "ipython3",
   "version": "3.11.5"
  }
 },
 "nbformat": 4,
 "nbformat_minor": 2
}
