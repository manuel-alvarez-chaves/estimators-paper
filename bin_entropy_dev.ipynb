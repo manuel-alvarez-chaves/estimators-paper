{
 "cells": [
  {
   "cell_type": "code",
   "execution_count": 1,
   "metadata": {},
   "outputs": [],
   "source": [
    "import h5py\n",
    "import ast\n",
    "from utils.misc_utils import get_logger\n",
    "\n",
    "import numpy as np\n",
    "from scipy import stats\n",
    "from scipy.special import gamma, digamma\n",
    "from scipy.integrate import nquad"
   ]
  },
  {
   "cell_type": "code",
   "execution_count": 2,
   "metadata": {},
   "outputs": [
    {
     "name": "stdout",
     "output_type": "stream",
     "text": [
      "data_path - data.hdf5\n",
      "out_path - results/bin.hdf5\n",
      "logger - <RootLogger root (DEBUG)>\n",
      "quantity - h\n",
      "hyper_params - ['scott', 'fd', 'sturges']\n",
      "sample_sizes - [100, 200, 500, 1000, 5000, 10000, 50000, 100000]\n",
      "seeds - range(1, 6)\n",
      "results - None\n"
     ]
    }
   ],
   "source": [
    "from utils.bin_evaluators import EvaluatorBIN\n",
    "\n",
    "eval = EvaluatorBIN()\n",
    "\n",
    "eval.data_path = \"data.hdf5\"\n",
    "eval.out_path = \"results/bin.hdf5\"\n",
    "eval.logger = get_logger(\"results/bin_entropy.log\")\n",
    "\n",
    "eval.quantity = \"h\"\n",
    "\n",
    "eval.hyper_params = [\"scott\", \"fd\", \"sturges\"]\n",
    "eval.sample_sizes = [100, 200, 500, 1_000, 5_000, 10_000, 50_000, 100_000]\n",
    "eval.seeds = range(1, 6)\n",
    "\n",
    "for k, v in vars(eval).items():\n",
    "    print(f\"{k} - {v}\")\n",
    "\n",
    "eval.create_database()\n",
    "eval.create_group()\n",
    "\n",
    "experiments = [\n",
    "    \"uniform\",\n",
    "    \"normal\",\n",
    "    \"normal-mixture\",\n",
    "    \"exponential\",\n",
    "    \"bivariate-normal\",\n",
    "    \"bivariate-normal-mixture\",\n",
    "    \"gexp\",\n",
    "    \"4d-gaussian\"\n",
    "]"
   ]
  },
  {
   "cell_type": "code",
   "execution_count": 3,
   "metadata": {},
   "outputs": [
    {
     "name": "stderr",
     "output_type": "stream",
     "text": [
      "2023-11-09 19:05:10 - Creating converter from 3 to 5\n",
      "2023-11-09 19:05:10 - (UNIFORM, scott, 10000, 1) - Time: 0.00049 s - Est.: 0.404 nats\n",
      "2023-11-09 19:05:10 - (UNIFORM, qs, 10000, 1) - Time: 0.15019 s - Est.: 0.399 nats\n",
      "2023-11-09 19:05:12 - (UNIFORM, scott, 10000, 2) - Time: 0.00046 s - Est.: 0.404 nats\n",
      "2023-11-09 19:05:13 - (UNIFORM, qs, 10000, 2) - Time: 0.15224 s - Est.: 0.399 nats\n",
      "2023-11-09 19:05:15 - (UNIFORM, scott, 10000, 3) - Time: 0.00044 s - Est.: 0.404 nats\n",
      "2023-11-09 19:05:15 - (UNIFORM, qs, 10000, 3) - Time: 0.15996 s - Est.: 0.400 nats\n",
      "2023-11-09 19:05:18 - (UNIFORM, scott, 10000, 4) - Time: 0.00044 s - Est.: 0.404 nats\n",
      "2023-11-09 19:05:18 - (UNIFORM, qs, 10000, 4) - Time: 0.15008 s - Est.: 0.399 nats\n",
      "2023-11-09 19:05:21 - (UNIFORM, scott, 10000, 5) - Time: 0.00085 s - Est.: 0.404 nats\n",
      "2023-11-09 19:05:22 - (UNIFORM, qs, 10000, 5) - Time: 0.20184 s - Est.: 0.400 nats\n"
     ]
    },
    {
     "name": "stdout",
     "output_type": "stream",
     "text": [
      "True entropy: 0.405 nats\n"
     ]
    }
   ],
   "source": [
    "eval.hyper_params.append(\"qs\")\n",
    "\n",
    "# # # # # UNIFORM # # # # #\n",
    "\n",
    "experiment = \"uniform\"\n",
    "# Calculate Truth\n",
    "with h5py.File(eval.data_path, \"r\") as f:\n",
    "    dist_params = ast.literal_eval(f[experiment][\"p\"].attrs[\"hyper_params\"])\n",
    "\n",
    "true_h = np.log(dist_params[0][1]) # Reference\n",
    "\n",
    "eval.evaluate_entropy(experiment, \"scott\")\n",
    "\n",
    "# Save\n",
    "eval.write_single_to_hdf5(experiment, true_h)\n",
    "print(f\"True entropy: {true_h:.3f} nats\")"
   ]
  },
  {
   "cell_type": "code",
   "execution_count": 5,
   "metadata": {},
   "outputs": [
    {
     "name": "stderr",
     "output_type": "stream",
     "text": [
      "2023-11-09 19:05:52 - (NORMAL, scott, 10000, 1) - Time: 0.00043 s - Est.: 2.318 nats\n",
      "2023-11-09 19:05:52 - (NORMAL, qs, 10000, 1) - Time: 0.15174 s - Est.: 2.304 nats\n",
      "2023-11-09 19:05:55 - (NORMAL, scott, 10000, 2) - Time: 0.00059 s - Est.: 2.330 nats\n",
      "2023-11-09 19:05:55 - (NORMAL, qs, 10000, 2) - Time: 0.14843 s - Est.: 2.332 nats\n",
      "2023-11-09 19:05:59 - (NORMAL, scott, 10000, 3) - Time: 0.00107 s - Est.: 2.333 nats\n",
      "2023-11-09 19:05:59 - (NORMAL, qs, 10000, 3) - Time: 0.31118 s - Est.: 2.331 nats\n",
      "2023-11-09 19:06:02 - (NORMAL, scott, 10000, 4) - Time: 0.00062 s - Est.: 2.339 nats\n",
      "2023-11-09 19:06:03 - (NORMAL, qs, 10000, 4) - Time: 0.19612 s - Est.: 2.329 nats\n",
      "2023-11-09 19:06:06 - (NORMAL, scott, 10000, 5) - Time: 0.00056 s - Est.: 2.329 nats\n",
      "2023-11-09 19:06:06 - (NORMAL, qs, 10000, 5) - Time: 0.19066 s - Est.: 2.320 nats\n"
     ]
    },
    {
     "name": "stdout",
     "output_type": "stream",
     "text": [
      "True entropy: 2.335 nats\n"
     ]
    }
   ],
   "source": [
    "# # # # # NORMAL # # # # #\n",
    "\n",
    "experiment = \"normal\"\n",
    "\n",
    "# Calculate Truth\n",
    "with h5py.File(eval.data_path, \"r\") as f:\n",
    "    dist_params = ast.literal_eval(f[experiment][\"p\"].attrs[\"hyper_params\"])\n",
    "\n",
    "true_h = 0.5 * np.log(2 * np.pi * (dist_params[0][1]**2)) + 0.5 # Reference\n",
    "\n",
    "eval.evaluate_entropy(experiment, \"scott\")\n",
    "\n",
    "# Save\n",
    "eval.write_single_to_hdf5(experiment, true_h)\n",
    "print(f\"True entropy: {true_h:.3f} nats\")"
   ]
  },
  {
   "cell_type": "code",
   "execution_count": 6,
   "metadata": {},
   "outputs": [
    {
     "name": "stderr",
     "output_type": "stream",
     "text": [
      "2023-11-09 19:06:49 - (NORMAL-MIXTURE, scott, 10000, 1) - Time: 0.00042 s - Est.: 2.377 nats\n",
      "2023-11-09 19:06:49 - (NORMAL-MIXTURE, qs, 10000, 1) - Time: 0.14604 s - Est.: 2.389 nats\n",
      "2023-11-09 19:06:52 - (NORMAL-MIXTURE, scott, 10000, 2) - Time: 0.00046 s - Est.: 2.383 nats\n",
      "2023-11-09 19:06:52 - (NORMAL-MIXTURE, qs, 10000, 2) - Time: 0.16292 s - Est.: 2.381 nats\n",
      "2023-11-09 19:06:54 - (NORMAL-MIXTURE, scott, 10000, 3) - Time: 0.00046 s - Est.: 2.386 nats\n",
      "2023-11-09 19:06:54 - (NORMAL-MIXTURE, qs, 10000, 3) - Time: 0.16636 s - Est.: 2.365 nats\n",
      "2023-11-09 19:06:57 - (NORMAL-MIXTURE, scott, 10000, 4) - Time: 0.00058 s - Est.: 2.393 nats\n",
      "2023-11-09 19:06:57 - (NORMAL-MIXTURE, qs, 10000, 4) - Time: 0.20817 s - Est.: 2.391 nats\n",
      "2023-11-09 19:07:00 - (NORMAL-MIXTURE, scott, 10000, 5) - Time: 0.00044 s - Est.: 2.398 nats\n",
      "2023-11-09 19:07:00 - (NORMAL-MIXTURE, qs, 10000, 5) - Time: 0.15569 s - Est.: 2.384 nats\n"
     ]
    },
    {
     "name": "stdout",
     "output_type": "stream",
     "text": [
      "True entropy: 2.385 nats\n"
     ]
    }
   ],
   "source": [
    "# # # # # NORMAL-MIXTURE # # # # #\n",
    "\n",
    "experiment = \"normal-mixture\"\n",
    "\n",
    "# Calculate Truth\n",
    "with h5py.File(eval.data_path, \"r\") as f:\n",
    "    dist_params = ast.literal_eval(f[experiment][\"p\"].attrs[\"hyper_params\"])\n",
    "\n",
    "def pdf_normal(x, params):\n",
    "    y = 0.0\n",
    "    for dist in params:\n",
    "        l, s, w = dist\n",
    "        y += stats.norm(loc=l, scale=s).pdf(x) * w\n",
    "    return y\n",
    "\n",
    "def h_normal(x, params):\n",
    "    p = pdf_normal(x, params)\n",
    "    return -1 * p * np.log(p)\n",
    "\n",
    "norm_lims = [[-15, 25]]\n",
    "\n",
    "true_h = nquad(h_normal, norm_lims, args=(dist_params,))[0] # Numerical Integration Result\n",
    "\n",
    "eval.evaluate_entropy(experiment, \"scott\")\n",
    "\n",
    "# Save\n",
    "eval.write_single_to_hdf5(experiment, true_h)\n",
    "print(f\"True entropy: {true_h:.3f} nats\")"
   ]
  },
  {
   "cell_type": "code",
   "execution_count": 7,
   "metadata": {},
   "outputs": [
    {
     "name": "stderr",
     "output_type": "stream",
     "text": [
      "2023-11-09 19:07:05 - (EXPONENTIAL, scott, 10000, 1) - Time: 0.00055 s - Est.: 0.302 nats\n",
      "2023-11-09 19:07:05 - (EXPONENTIAL, qs, 10000, 1) - Time: 0.18787 s - Est.: 0.293 nats\n",
      "2023-11-09 19:07:08 - (EXPONENTIAL, scott, 10000, 2) - Time: 0.00058 s - Est.: 0.302 nats\n",
      "2023-11-09 19:07:08 - (EXPONENTIAL, qs, 10000, 2) - Time: 0.20676 s - Est.: 0.298 nats\n",
      "2023-11-09 19:07:11 - (EXPONENTIAL, scott, 10000, 3) - Time: 0.00055 s - Est.: 0.320 nats\n",
      "2023-11-09 19:07:11 - (EXPONENTIAL, qs, 10000, 3) - Time: 0.18835 s - Est.: 0.323 nats\n",
      "2023-11-09 19:07:15 - (EXPONENTIAL, scott, 10000, 4) - Time: 0.00059 s - Est.: 0.319 nats\n",
      "2023-11-09 19:07:15 - (EXPONENTIAL, qs, 10000, 4) - Time: 0.18998 s - Est.: 0.308 nats\n",
      "2023-11-09 19:07:18 - (EXPONENTIAL, scott, 10000, 5) - Time: 0.00053 s - Est.: 0.313 nats\n",
      "2023-11-09 19:07:18 - (EXPONENTIAL, qs, 10000, 5) - Time: 0.19143 s - Est.: 0.319 nats\n"
     ]
    },
    {
     "name": "stdout",
     "output_type": "stream",
     "text": [
      "True entropy: 0.307 nats\n"
     ]
    }
   ],
   "source": [
    "# # # # # EXPONENTIAL # # # # #\n",
    "\n",
    "experiment = \"exponential\"\n",
    "\n",
    "# Calculate Truth\n",
    "with h5py.File(eval.data_path, \"r\") as f:\n",
    "    dist_params = ast.literal_eval(f[experiment][\"p\"].attrs[\"hyper_params\"])\n",
    "\n",
    "true_h = 1 - np.log(1/dist_params[0][1]) # Reference\n",
    "\n",
    "eval.evaluate_entropy(experiment, \"scott\")\n",
    "\n",
    "# Save\n",
    "eval.write_single_to_hdf5(experiment, true_h)\n",
    "print(f\"True entropy: {true_h:.3f} nats\")"
   ]
  },
  {
   "cell_type": "code",
   "execution_count": 8,
   "metadata": {},
   "outputs": [
    {
     "name": "stderr",
     "output_type": "stream",
     "text": [
      "2023-11-09 19:07:32 - (BIVARIATE-NORMAL, scott, 10000, 1) - Time: 0.00099 s - Est.: 2.636 nats\n",
      "2023-11-09 19:07:32 - (BIVARIATE-NORMAL, scott, 10000, 2) - Time: 0.00088 s - Est.: 2.619 nats\n",
      "2023-11-09 19:07:32 - (BIVARIATE-NORMAL, scott, 10000, 3) - Time: 0.00093 s - Est.: 2.617 nats\n",
      "2023-11-09 19:07:32 - (BIVARIATE-NORMAL, scott, 10000, 4) - Time: 0.00244 s - Est.: 2.626 nats\n",
      "2023-11-09 19:07:32 - (BIVARIATE-NORMAL, scott, 10000, 5) - Time: 0.00089 s - Est.: 2.628 nats\n"
     ]
    },
    {
     "name": "stdout",
     "output_type": "stream",
     "text": [
      "True entropy: 2.694 nats\n"
     ]
    }
   ],
   "source": [
    "eval.hyper_params = [\"scott\", \"fd\", \"sturges\"]\n",
    "\n",
    "# # # # # BIVARIATE-NORMAL # # # # #\n",
    "\n",
    "experiment = \"bivariate-normal\"\n",
    "\n",
    "# Calculate Truth\n",
    "with h5py.File(eval.data_path, \"r\") as f:\n",
    "    dist_params = ast.literal_eval(f[experiment][\"p\"].attrs[\"hyper_params\"])\n",
    "\n",
    "d = len(dist_params[0][1])\n",
    "true_h = 0.5 * np.log((2 * np.pi * np.exp(1)) ** d * np.linalg.det(dist_params[0][1])) # Reference\n",
    "\n",
    "eval.evaluate_entropy(experiment, \"scott\")\n",
    "\n",
    "# Save\n",
    "eval.write_single_to_hdf5(experiment, true_h)\n",
    "print(f\"True entropy: {true_h:.3f} nats\")"
   ]
  },
  {
   "cell_type": "code",
   "execution_count": 9,
   "metadata": {},
   "outputs": [
    {
     "name": "stderr",
     "output_type": "stream",
     "text": [
      "2023-11-09 19:07:45 - (BIVARIATE-NORMAL-MIXTURE, scott, 10000, 1) - Time: 0.00088 s - Est.: 3.278 nats\n",
      "2023-11-09 19:07:45 - (BIVARIATE-NORMAL-MIXTURE, scott, 10000, 2) - Time: 0.00088 s - Est.: 3.280 nats\n",
      "2023-11-09 19:07:46 - (BIVARIATE-NORMAL-MIXTURE, scott, 10000, 3) - Time: 0.00114 s - Est.: 3.284 nats\n",
      "2023-11-09 19:07:46 - (BIVARIATE-NORMAL-MIXTURE, scott, 10000, 4) - Time: 0.00082 s - Est.: 3.287 nats\n",
      "2023-11-09 19:07:46 - (BIVARIATE-NORMAL-MIXTURE, scott, 10000, 5) - Time: 0.00264 s - Est.: 3.278 nats\n"
     ]
    },
    {
     "name": "stdout",
     "output_type": "stream",
     "text": [
      "True entropy: 3.330 nats\n"
     ]
    }
   ],
   "source": [
    "# # # # # BIVARIATE-NORMAL-MIXTURE # # # # #\n",
    "\n",
    "experiment = \"bivariate-normal-mixture\"\n",
    "\n",
    "# Calculate Truth\n",
    "with h5py.File(eval.data_path, \"r\") as f:\n",
    "    dist_params = ast.literal_eval(f[experiment][\"p\"].attrs[\"hyper_params\"])\n",
    "\n",
    "def pdf_mnorm(x, y, params):\n",
    "    z = 0.0\n",
    "    for dist in params:\n",
    "        l, s, w = dist\n",
    "        z += stats.multivariate_normal(mean=l, cov=s).pdf(np.dstack((x, y))) * w\n",
    "    return z\n",
    "\n",
    "def h_mnorm(x, y, params1):\n",
    "    p = pdf_mnorm(x, y, params1)\n",
    "    return -1 * p * np.log(p)\n",
    "\n",
    "binorm_lims = [[-7, 7], [-7, 7]]\n",
    "\n",
    "true_h = nquad(h_mnorm, binorm_lims, args=(dist_params,))[0] # Numerical Integration Result\n",
    "\n",
    "eval.evaluate_entropy(experiment, \"scott\")\n",
    "\n",
    "# Save\n",
    "eval.write_single_to_hdf5(experiment, true_h)\n",
    "print(f\"True entropy: {true_h:.3f} nats\")"
   ]
  },
  {
   "cell_type": "code",
   "execution_count": 10,
   "metadata": {},
   "outputs": [
    {
     "name": "stderr",
     "output_type": "stream",
     "text": [
      "2023-11-09 19:07:53 - (GEXP, scott, 10000, 1) - Time: 0.00102 s - Est.: 1.928 nats\n",
      "2023-11-09 19:07:53 - (GEXP, scott, 10000, 2) - Time: 0.00104 s - Est.: 1.885 nats\n",
      "2023-11-09 19:07:53 - (GEXP, scott, 10000, 3) - Time: 0.00104 s - Est.: 1.898 nats\n",
      "2023-11-09 19:07:54 - (GEXP, scott, 10000, 4) - Time: 0.00134 s - Est.: 1.891 nats\n",
      "2023-11-09 19:07:54 - (GEXP, scott, 10000, 5) - Time: 0.00094 s - Est.: 1.889 nats\n"
     ]
    },
    {
     "name": "stdout",
     "output_type": "stream",
     "text": [
      "True entropy: 1.925 nats\n"
     ]
    }
   ],
   "source": [
    "# # # # # GAMMA-EXPONENTIAL # # # # #\n",
    "\n",
    "experiment = \"gexp\"\n",
    "\n",
    "# Calculate Truth\n",
    "with h5py.File(eval.data_path, \"r\") as f:\n",
    "    dist_params = ast.literal_eval(f[experiment][\"p\"].attrs[\"hyper_params\"])\n",
    "\n",
    "tetha = dist_params[0][0]\n",
    "true_h = 1 +  tetha - tetha * digamma(tetha) + np.log(gamma(tetha)) - np.log(1.0) # Reference\n",
    "\n",
    "eval.evaluate_entropy(experiment, \"scott\")\n",
    "\n",
    "# Save\n",
    "eval.write_single_to_hdf5(experiment, true_h)\n",
    "print(f\"True entropy: {true_h:.3f} nats\")"
   ]
  },
  {
   "cell_type": "code",
   "execution_count": 11,
   "metadata": {},
   "outputs": [
    {
     "name": "stderr",
     "output_type": "stream",
     "text": [
      "2023-11-09 19:08:02 - (4D-GAUSSIAN, scott, 10000, 1) - Time: 0.27325 s - Est.: 1.857 nats\n"
     ]
    },
    {
     "name": "stdout",
     "output_type": "stream",
     "text": [
      "True entropy: 5.094 nats\n"
     ]
    }
   ],
   "source": [
    "eval.seeds = range(1, 2)\n",
    "\n",
    "# # # # # 4D-GAUSSIAN # # # # #\n",
    "\n",
    "experiment = \"4d-gaussian\"\n",
    "\n",
    "# Calculate Truth\n",
    "with h5py.File(eval.data_path, \"r\") as f:\n",
    "    dist_params = ast.literal_eval(f[experiment][\"p\"].attrs[\"hyper_params\"])\n",
    "\n",
    "d = len(dist_params[0][1])\n",
    "true_h = 0.5 * np.log((2 * np.pi * np.exp(1)) ** d * np.linalg.det(dist_params[0][1])) # Reference\n",
    "\n",
    "eval.evaluate_entropy(experiment, \"scott\")\n",
    "\n",
    "# Save\n",
    "eval.write_single_to_hdf5(experiment, true_h)\n",
    "print(f\"True entropy: {true_h:.3f} nats\")"
   ]
  }
 ],
 "metadata": {
  "kernelspec": {
   "display_name": "env_sci",
   "language": "python",
   "name": "python3"
  },
  "language_info": {
   "codemirror_mode": {
    "name": "ipython",
    "version": 3
   },
   "file_extension": ".py",
   "mimetype": "text/x-python",
   "name": "python",
   "nbconvert_exporter": "python",
   "pygments_lexer": "ipython3",
   "version": "3.11.5"
  }
 },
 "nbformat": 4,
 "nbformat_minor": 2
}
